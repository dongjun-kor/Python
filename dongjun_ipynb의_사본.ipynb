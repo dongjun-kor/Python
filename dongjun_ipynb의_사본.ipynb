{
  "nbformat": 4,
  "nbformat_minor": 0,
  "metadata": {
    "colab": {
      "name": "dongjun.ipynb의 사본",
      "provenance": [],
      "collapsed_sections": [],
      "include_colab_link": true
    },
    "kernelspec": {
      "name": "python3",
      "display_name": "Python 3"
    },
    "language_info": {
      "name": "python"
    },
    "accelerator": "GPU"
  },
  "cells": [
    {
      "cell_type": "markdown",
      "metadata": {
        "id": "view-in-github",
        "colab_type": "text"
      },
      "source": [
        "<a href=\"https://colab.research.google.com/github/dongjun-kor/Python/blob/main/dongjun_ipynb%EC%9D%98_%EC%82%AC%EB%B3%B8.ipynb\" target=\"_parent\"><img src=\"https://colab.research.google.com/assets/colab-badge.svg\" alt=\"Open In Colab\"/></a>"
      ]
    },
    {
      "cell_type": "markdown",
      "source": [
        "# 영감: lee-ju"
      ],
      "metadata": {
        "id": "aaTY1yxD9dpA"
      }
    },
    {
      "cell_type": "code",
      "execution_count": null,
      "metadata": {
        "id": "aBv_8SMYjO1L",
        "colab": {
          "base_uri": "https://localhost:8080/"
        },
        "outputId": "86b4d81f-88f9-4aef-ebab-d2b5dcfcdef4"
      },
      "outputs": [
        {
          "output_type": "stream",
          "name": "stdout",
          "text": [
            "Mounted at /content/drive\n"
          ]
        }
      ],
      "source": [
        "# 드라이브 연결\n",
        "from google.colab import drive\n",
        "drive.mount('/content/drive')"
      ]
    },
    {
      "cell_type": "code",
      "source": [
        "\"\"\"import os, sys\n",
        "pkg_path = '/content/packages'\n",
        "os.symlink('/content/drive/MyDrive/Colab Notebooks', pkg_path)\n",
        "sys.path.insert(0, pkg_path)\"\"\""
      ],
      "metadata": {
        "id": "KhTN66gvmTqm"
      },
      "execution_count": null,
      "outputs": []
    },
    {
      "cell_type": "code",
      "source": [
        "\"\"\"#!pip install git+https://github.com/lee-ju/Statistical_Quality_Control.git\n",
        "#!pip install --target=$pkg_path git+https://github.com/lee-ju/Statistical_Quality_Control.git\n",
        "#!pip uninstall Statistical_Quality_Control\n",
        "!pip install --target=$pkg_path git+https://github.com/lee-ju/Statistical_Quality_Control.git --upgrade\"\"\""
      ],
      "metadata": {
        "id": "_u8aLnF0mUrE"
      },
      "execution_count": null,
      "outputs": []
    },
    {
      "cell_type": "code",
      "source": [
        "import tensorflow as tf\n",
        "tf.__version__"
      ],
      "metadata": {
        "colab": {
          "base_uri": "https://localhost:8080/",
          "height": 35
        },
        "id": "6PC9ZXYDPmeY",
        "outputId": "5d0776c4-32e3-4dbd-d8ce-73f7dd24e97d"
      },
      "execution_count": null,
      "outputs": [
        {
          "output_type": "execute_result",
          "data": {
            "text/plain": [
              "'2.8.0'"
            ],
            "application/vnd.google.colaboratory.intrinsic+json": {
              "type": "string"
            }
          },
          "metadata": {},
          "execution_count": 2
        }
      ]
    },
    {
      "cell_type": "code",
      "source": [
        "import numpy as np\n",
        "import pandas as pd\n",
        "\n",
        "from tensorflow.keras.models import Sequential\n",
        "from tensorflow.keras.layers import Dense, Dropout, LSTM\n",
        "from tensorflow.keras.callbacks import EarlyStopping, ModelCheckpoint\n",
        "\n",
        "import matplotlib.pyplot as plt\n",
        "%matplotlib inline"
      ],
      "metadata": {
        "id": "zQRK-eyhjQmK"
      },
      "execution_count": null,
      "outputs": []
    },
    {
      "cell_type": "code",
      "source": [
        "df = pd.read_csv('/content/drive/MyDrive/Colab Notebooks/Data/LSTMipc1.csv',\n",
        "                 parse_dates =[\"date\"], index_col =\"date\", dtype={'N':'float'},\n",
        "                 engine='python',encoding='euc-kr')\n",
        "df.head()"
      ],
      "metadata": {
        "colab": {
          "base_uri": "https://localhost:8080/",
          "height": 238
        },
        "id": "eum4M0N-vN2l",
        "outputId": "3c32f67c-0668-4f0b-c470-5a900e42c723"
      },
      "execution_count": null,
      "outputs": [
        {
          "output_type": "execute_result",
          "data": {
            "text/plain": [
              "               N\n",
              "date            \n",
              "2021-01-10   9.0\n",
              "2021-02-10   8.0\n",
              "2021-03-10  10.0\n",
              "2021-04-10  10.0\n",
              "2021-05-10   5.0"
            ],
            "text/html": [
              "\n",
              "  <div id=\"df-258eac8d-6581-41ff-b21a-4995cf23897a\">\n",
              "    <div class=\"colab-df-container\">\n",
              "      <div>\n",
              "<style scoped>\n",
              "    .dataframe tbody tr th:only-of-type {\n",
              "        vertical-align: middle;\n",
              "    }\n",
              "\n",
              "    .dataframe tbody tr th {\n",
              "        vertical-align: top;\n",
              "    }\n",
              "\n",
              "    .dataframe thead th {\n",
              "        text-align: right;\n",
              "    }\n",
              "</style>\n",
              "<table border=\"1\" class=\"dataframe\">\n",
              "  <thead>\n",
              "    <tr style=\"text-align: right;\">\n",
              "      <th></th>\n",
              "      <th>N</th>\n",
              "    </tr>\n",
              "    <tr>\n",
              "      <th>date</th>\n",
              "      <th></th>\n",
              "    </tr>\n",
              "  </thead>\n",
              "  <tbody>\n",
              "    <tr>\n",
              "      <th>2021-01-10</th>\n",
              "      <td>9.0</td>\n",
              "    </tr>\n",
              "    <tr>\n",
              "      <th>2021-02-10</th>\n",
              "      <td>8.0</td>\n",
              "    </tr>\n",
              "    <tr>\n",
              "      <th>2021-03-10</th>\n",
              "      <td>10.0</td>\n",
              "    </tr>\n",
              "    <tr>\n",
              "      <th>2021-04-10</th>\n",
              "      <td>10.0</td>\n",
              "    </tr>\n",
              "    <tr>\n",
              "      <th>2021-05-10</th>\n",
              "      <td>5.0</td>\n",
              "    </tr>\n",
              "  </tbody>\n",
              "</table>\n",
              "</div>\n",
              "      <button class=\"colab-df-convert\" onclick=\"convertToInteractive('df-258eac8d-6581-41ff-b21a-4995cf23897a')\"\n",
              "              title=\"Convert this dataframe to an interactive table.\"\n",
              "              style=\"display:none;\">\n",
              "        \n",
              "  <svg xmlns=\"http://www.w3.org/2000/svg\" height=\"24px\"viewBox=\"0 0 24 24\"\n",
              "       width=\"24px\">\n",
              "    <path d=\"M0 0h24v24H0V0z\" fill=\"none\"/>\n",
              "    <path d=\"M18.56 5.44l.94 2.06.94-2.06 2.06-.94-2.06-.94-.94-2.06-.94 2.06-2.06.94zm-11 1L8.5 8.5l.94-2.06 2.06-.94-2.06-.94L8.5 2.5l-.94 2.06-2.06.94zm10 10l.94 2.06.94-2.06 2.06-.94-2.06-.94-.94-2.06-.94 2.06-2.06.94z\"/><path d=\"M17.41 7.96l-1.37-1.37c-.4-.4-.92-.59-1.43-.59-.52 0-1.04.2-1.43.59L10.3 9.45l-7.72 7.72c-.78.78-.78 2.05 0 2.83L4 21.41c.39.39.9.59 1.41.59.51 0 1.02-.2 1.41-.59l7.78-7.78 2.81-2.81c.8-.78.8-2.07 0-2.86zM5.41 20L4 18.59l7.72-7.72 1.47 1.35L5.41 20z\"/>\n",
              "  </svg>\n",
              "      </button>\n",
              "      \n",
              "  <style>\n",
              "    .colab-df-container {\n",
              "      display:flex;\n",
              "      flex-wrap:wrap;\n",
              "      gap: 12px;\n",
              "    }\n",
              "\n",
              "    .colab-df-convert {\n",
              "      background-color: #E8F0FE;\n",
              "      border: none;\n",
              "      border-radius: 50%;\n",
              "      cursor: pointer;\n",
              "      display: none;\n",
              "      fill: #1967D2;\n",
              "      height: 32px;\n",
              "      padding: 0 0 0 0;\n",
              "      width: 32px;\n",
              "    }\n",
              "\n",
              "    .colab-df-convert:hover {\n",
              "      background-color: #E2EBFA;\n",
              "      box-shadow: 0px 1px 2px rgba(60, 64, 67, 0.3), 0px 1px 3px 1px rgba(60, 64, 67, 0.15);\n",
              "      fill: #174EA6;\n",
              "    }\n",
              "\n",
              "    [theme=dark] .colab-df-convert {\n",
              "      background-color: #3B4455;\n",
              "      fill: #D2E3FC;\n",
              "    }\n",
              "\n",
              "    [theme=dark] .colab-df-convert:hover {\n",
              "      background-color: #434B5C;\n",
              "      box-shadow: 0px 1px 3px 1px rgba(0, 0, 0, 0.15);\n",
              "      filter: drop-shadow(0px 1px 2px rgba(0, 0, 0, 0.3));\n",
              "      fill: #FFFFFF;\n",
              "    }\n",
              "  </style>\n",
              "\n",
              "      <script>\n",
              "        const buttonEl =\n",
              "          document.querySelector('#df-258eac8d-6581-41ff-b21a-4995cf23897a button.colab-df-convert');\n",
              "        buttonEl.style.display =\n",
              "          google.colab.kernel.accessAllowed ? 'block' : 'none';\n",
              "\n",
              "        async function convertToInteractive(key) {\n",
              "          const element = document.querySelector('#df-258eac8d-6581-41ff-b21a-4995cf23897a');\n",
              "          const dataTable =\n",
              "            await google.colab.kernel.invokeFunction('convertToInteractive',\n",
              "                                                     [key], {});\n",
              "          if (!dataTable) return;\n",
              "\n",
              "          const docLinkHtml = 'Like what you see? Visit the ' +\n",
              "            '<a target=\"_blank\" href=https://colab.research.google.com/notebooks/data_table.ipynb>data table notebook</a>'\n",
              "            + ' to learn more about interactive tables.';\n",
              "          element.innerHTML = '';\n",
              "          dataTable['output_type'] = 'display_data';\n",
              "          await google.colab.output.renderOutput(dataTable, element);\n",
              "          const docLink = document.createElement('div');\n",
              "          docLink.innerHTML = docLinkHtml;\n",
              "          element.appendChild(docLink);\n",
              "        }\n",
              "      </script>\n",
              "    </div>\n",
              "  </div>\n",
              "  "
            ]
          },
          "metadata": {},
          "execution_count": 6
        }
      ]
    },
    {
      "cell_type": "code",
      "source": [
        "df['N'].plot()"
      ],
      "metadata": {
        "colab": {
          "base_uri": "https://localhost:8080/",
          "height": 287
        },
        "id": "b2vxOJzkvN09",
        "outputId": "21b255b2-37e1-4389-f455-cecad59e37bc"
      },
      "execution_count": null,
      "outputs": [
        {
          "output_type": "execute_result",
          "data": {
            "text/plain": [
              "<matplotlib.axes._subplots.AxesSubplot at 0x7fbe881a1710>"
            ]
          },
          "metadata": {},
          "execution_count": 7
        },
        {
          "output_type": "display_data",
          "data": {
            "text/plain": [
              "<Figure size 432x288 with 1 Axes>"
            ],
            "image/png": "[encoded data removed]"
          },
          "metadata": {
            "needs_background": "light"
          }
        }
      ]
    },
    {
      "cell_type": "code",
      "source": [
        "# Validation set 추가\n",
        "split_date1 = pd.Timestamp('2012-12-10')\n",
        "split_date2 = pd.Timestamp('2016-05-10')\n",
        "\n",
        "train_valid = df.loc[split_date2:, ] # 2016-05-10 이전\n",
        "test = df.loc[:split_date2, ['N']] # 2016-05-10 이후\n",
        "\n",
        "train = train_valid.loc[split_date1:, ['N']] # 2012-12-10 이전\n",
        "valid = train_valid.loc[:split_date1, ['N']] # 2012-12-10 이후\n",
        "\n",
        "print(train.shape, valid.shape, test.shape)\n",
        "\n",
        "ax = train.plot()\n",
        "valid.plot(ax=ax)\n",
        "test.plot(ax=ax)\n",
        "plt.legend(['train', 'valid', 'test'])"
      ],
      "metadata": {
        "colab": {
          "base_uri": "https://localhost:8080/",
          "height": 306
        },
        "id": "VjH-iuBH0bfT",
        "outputId": "60f6283e-0bd9-4d17-e009-176acda26136"
      },
      "execution_count": null,
      "outputs": [
        {
          "output_type": "stream",
          "name": "stdout",
          "text": [
            "(141, 1) (56, 1) (65, 1)\n"
          ]
        },
        {
          "output_type": "execute_result",
          "data": {
            "text/plain": [
              "<matplotlib.legend.Legend at 0x7fbe86e9b210>"
            ]
          },
          "metadata": {},
          "execution_count": 35
        },
        {
          "output_type": "display_data",
          "data": {
            "text/plain": [
              "<Figure size 432x288 with 1 Axes>"
            ],
            "image/png": "[encoded data removed]"
          },
          "metadata": {
            "needs_background": "light"
          }
        }
      ]
    },
    {
      "cell_type": "code",
      "source": [
        "#학습되지 않아서 정규화 진행 X\n",
        "from sklearn.preprocessing import MinMaxScaler\n",
        "\n",
        "sc = MinMaxScaler()\n",
        "\n",
        "train_sc = sc.fit_transform(train)\n",
        "valid_sc = sc.transform(valid) # 추가\n",
        "test_sc = sc.transform(test)"
      ],
      "metadata": {
        "id": "qXVz-GsMvNv_"
      },
      "execution_count": null,
      "outputs": []
    },
    {
      "cell_type": "code",
      "source": [
        "# pd.DataFrame(train, ...) ---> pd.DataFrame(train_sc)\n",
        "# 정규화 데이터 사용할 것\n",
        "train_sc_df = pd.DataFrame(train_sc, columns=['N'], index=train.index)\n",
        "valid_sc_df = pd.DataFrame(valid_sc, columns=['N'], index=valid.index)\n",
        "test_sc_df = pd.DataFrame(test_sc, columns=['N'], index=test.index)"
      ],
      "metadata": {
        "id": "87txmpXSvNti"
      },
      "execution_count": null,
      "outputs": []
    },
    {
      "cell_type": "code",
      "source": [
        "for s in range(1, 13):\n",
        "    train_sc_df['shift_{}'.format(s)] = train_sc_df['N'].shift(s)\n",
        "    valid_sc_df['shift_{}'.format(s)] = valid_sc_df['N'].shift(s) # 추가\n",
        "    test_sc_df['shift_{}'.format(s)] = test_sc_df['N'].shift(s)\n",
        "\n",
        "train_sc_df.head(13)"
      ],
      "metadata": {
        "colab": {
          "base_uri": "https://localhost:8080/",
          "height": 778
        },
        "id": "i_X95PR0vNq-",
        "outputId": "617988eb-0c58-46b5-dcfe-dc610fee5fd1"
      },
      "execution_count": null,
      "outputs": [
        {
          "output_type": "execute_result",
          "data": {
            "text/plain": [
              "                   N   shift_1   shift_2   shift_3   shift_4   shift_5  \\\n",
              "date                                                                     \n",
              "2012-12-10  0.400000       NaN       NaN       NaN       NaN       NaN   \n",
              "2011-01-10  0.133333  0.400000       NaN       NaN       NaN       NaN   \n",
              "2011-02-10  0.200000  0.133333  0.400000       NaN       NaN       NaN   \n",
              "2011-03-10  0.800000  0.200000  0.133333  0.400000       NaN       NaN   \n",
              "2011-04-10  0.666667  0.800000  0.200000  0.133333  0.400000       NaN   \n",
              "2011-05-10  0.600000  0.666667  0.800000  0.200000  0.133333  0.400000   \n",
              "2011-06-10  0.466667  0.600000  0.666667  0.800000  0.200000  0.133333   \n",
              "2011-07-10  0.266667  0.466667  0.600000  0.666667  0.800000  0.200000   \n",
              "2011-08-10  0.533333  0.266667  0.466667  0.600000  0.666667  0.800000   \n",
              "2011-09-10  0.266667  0.533333  0.266667  0.466667  0.600000  0.666667   \n",
              "2011-10-10  0.133333  0.266667  0.533333  0.266667  0.466667  0.600000   \n",
              "2011-11-10  0.333333  0.133333  0.266667  0.533333  0.266667  0.466667   \n",
              "2011-12-10  0.733333  0.333333  0.133333  0.266667  0.533333  0.266667   \n",
              "\n",
              "             shift_6   shift_7   shift_8   shift_9  shift_10  shift_11  \\\n",
              "date                                                                     \n",
              "2012-12-10       NaN       NaN       NaN       NaN       NaN       NaN   \n",
              "2011-01-10       NaN       NaN       NaN       NaN       NaN       NaN   \n",
              "2011-02-10       NaN       NaN       NaN       NaN       NaN       NaN   \n",
              "2011-03-10       NaN       NaN       NaN       NaN       NaN       NaN   \n",
              "2011-04-10       NaN       NaN       NaN       NaN       NaN       NaN   \n",
              "2011-05-10       NaN       NaN       NaN       NaN       NaN       NaN   \n",
              "2011-06-10  0.400000       NaN       NaN       NaN       NaN       NaN   \n",
              "2011-07-10  0.133333  0.400000       NaN       NaN       NaN       NaN   \n",
              "2011-08-10  0.200000  0.133333  0.400000       NaN       NaN       NaN   \n",
              "2011-09-10  0.800000  0.200000  0.133333  0.400000       NaN       NaN   \n",
              "2011-10-10  0.666667  0.800000  0.200000  0.133333  0.400000       NaN   \n",
              "2011-11-10  0.600000  0.666667  0.800000  0.200000  0.133333  0.400000   \n",
              "2011-12-10  0.466667  0.600000  0.666667  0.800000  0.200000  0.133333   \n",
              "\n",
              "            shift_12  \n",
              "date                  \n",
              "2012-12-10       NaN  \n",
              "2011-01-10       NaN  \n",
              "2011-02-10       NaN  \n",
              "2011-03-10       NaN  \n",
              "2011-04-10       NaN  \n",
              "2011-05-10       NaN  \n",
              "2011-06-10       NaN  \n",
              "2011-07-10       NaN  \n",
              "2011-08-10       NaN  \n",
              "2011-09-10       NaN  \n",
              "2011-10-10       NaN  \n",
              "2011-11-10       NaN  \n",
              "2011-12-10       0.4  "
            ],
            "text/html": [
              "\n",
              "  <div id=\"df-dab6812a-bd2d-477f-a02d-3563bc53f895\">\n",
              "    <div class=\"colab-df-container\">\n",
              "      <div>\n",
              "<style scoped>\n",
              "    .dataframe tbody tr th:only-of-type {\n",
              "        vertical-align: middle;\n",
              "    }\n",
              "\n",
              "    .dataframe tbody tr th {\n",
              "        vertical-align: top;\n",
              "    }\n",
              "\n",
              "    .dataframe thead th {\n",
              "        text-align: right;\n",
              "    }\n",
              "</style>\n",
              "<table border=\"1\" class=\"dataframe\">\n",
              "  <thead>\n",
              "    <tr style=\"text-align: right;\">\n",
              "      <th></th>\n",
              "      <th>N</th>\n",
              "      <th>shift_1</th>\n",
              "      <th>shift_2</th>\n",
              "      <th>shift_3</th>\n",
              "      <th>shift_4</th>\n",
              "      <th>shift_5</th>\n",
              "      <th>shift_6</th>\n",
              "      <th>shift_7</th>\n",
              "      <th>shift_8</th>\n",
              "      <th>shift_9</th>\n",
              "      <th>shift_10</th>\n",
              "      <th>shift_11</th>\n",
              "      <th>shift_12</th>\n",
              "    </tr>\n",
              "    <tr>\n",
              "      <th>date</th>\n",
              "      <th></th>\n",
              "      <th></th>\n",
              "      <th></th>\n",
              "      <th></th>\n",
              "      <th></th>\n",
              "      <th></th>\n",
              "      <th></th>\n",
              "      <th></th>\n",
              "      <th></th>\n",
              "      <th></th>\n",
              "      <th></th>\n",
              "      <th></th>\n",
              "      <th></th>\n",
              "    </tr>\n",
              "  </thead>\n",
              "  <tbody>\n",
              "    <tr>\n",
              "      <th>2012-12-10</th>\n",
              "      <td>0.400000</td>\n",
              "      <td>NaN</td>\n",
              "      <td>NaN</td>\n",
              "      <td>NaN</td>\n",
              "      <td>NaN</td>\n",
              "      <td>NaN</td>\n",
              "      <td>NaN</td>\n",
              "      <td>NaN</td>\n",
              "      <td>NaN</td>\n",
              "      <td>NaN</td>\n",
              "      <td>NaN</td>\n",
              "      <td>NaN</td>\n",
              "      <td>NaN</td>\n",
              "    </tr>\n",
              "    <tr>\n",
              "      <th>2011-01-10</th>\n",
              "      <td>0.133333</td>\n",
              "      <td>0.400000</td>\n",
              "      <td>NaN</td>\n",
              "      <td>NaN</td>\n",
              "      <td>NaN</td>\n",
              "      <td>NaN</td>\n",
              "      <td>NaN</td>\n",
              "      <td>NaN</td>\n",
              "      <td>NaN</td>\n",
              "      <td>NaN</td>\n",
              "      <td>NaN</td>\n",
              "      <td>NaN</td>\n",
              "      <td>NaN</td>\n",
              "    </tr>\n",
              "    <tr>\n",
              "      <th>2011-02-10</th>\n",
              "      <td>0.200000</td>\n",
              "      <td>0.133333</td>\n",
              "      <td>0.400000</td>\n",
              "      <td>NaN</td>\n",
              "      <td>NaN</td>\n",
              "      <td>NaN</td>\n",
              "      <td>NaN</td>\n",
              "      <td>NaN</td>\n",
              "      <td>NaN</td>\n",
              "      <td>NaN</td>\n",
              "      <td>NaN</td>\n",
              "      <td>NaN</td>\n",
              "      <td>NaN</td>\n",
              "    </tr>\n",
              "    <tr>\n",
              "      <th>2011-03-10</th>\n",
              "      <td>0.800000</td>\n",
              "      <td>0.200000</td>\n",
              "      <td>0.133333</td>\n",
              "      <td>0.400000</td>\n",
              "      <td>NaN</td>\n",
              "      <td>NaN</td>\n",
              "      <td>NaN</td>\n",
              "      <td>NaN</td>\n",
              "      <td>NaN</td>\n",
              "      <td>NaN</td>\n",
              "      <td>NaN</td>\n",
              "      <td>NaN</td>\n",
              "      <td>NaN</td>\n",
              "    </tr>\n",
              "    <tr>\n",
              "      <th>2011-04-10</th>\n",
              "      <td>0.666667</td>\n",
              "      <td>0.800000</td>\n",
              "      <td>0.200000</td>\n",
              "      <td>0.133333</td>\n",
              "      <td>0.400000</td>\n",
              "      <td>NaN</td>\n",
              "      <td>NaN</td>\n",
              "      <td>NaN</td>\n",
              "      <td>NaN</td>\n",
              "      <td>NaN</td>\n",
              "      <td>NaN</td>\n",
              "      <td>NaN</td>\n",
              "      <td>NaN</td>\n",
              "    </tr>\n",
              "    <tr>\n",
              "      <th>2011-05-10</th>\n",
              "      <td>0.600000</td>\n",
              "      <td>0.666667</td>\n",
              "      <td>0.800000</td>\n",
              "      <td>0.200000</td>\n",
              "      <td>0.133333</td>\n",
              "      <td>0.400000</td>\n",
              "      <td>NaN</td>\n",
              "      <td>NaN</td>\n",
              "      <td>NaN</td>\n",
              "      <td>NaN</td>\n",
              "      <td>NaN</td>\n",
              "      <td>NaN</td>\n",
              "      <td>NaN</td>\n",
              "    </tr>\n",
              "    <tr>\n",
              "      <th>2011-06-10</th>\n",
              "      <td>0.466667</td>\n",
              "      <td>0.600000</td>\n",
              "      <td>0.666667</td>\n",
              "      <td>0.800000</td>\n",
              "      <td>0.200000</td>\n",
              "      <td>0.133333</td>\n",
              "      <td>0.400000</td>\n",
              "      <td>NaN</td>\n",
              "      <td>NaN</td>\n",
              "      <td>NaN</td>\n",
              "      <td>NaN</td>\n",
              "      <td>NaN</td>\n",
              "      <td>NaN</td>\n",
              "    </tr>\n",
              "    <tr>\n",
              "      <th>2011-07-10</th>\n",
              "      <td>0.266667</td>\n",
              "      <td>0.466667</td>\n",
              "      <td>0.600000</td>\n",
              "      <td>0.666667</td>\n",
              "      <td>0.800000</td>\n",
              "      <td>0.200000</td>\n",
              "      <td>0.133333</td>\n",
              "      <td>0.400000</td>\n",
              "      <td>NaN</td>\n",
              "      <td>NaN</td>\n",
              "      <td>NaN</td>\n",
              "      <td>NaN</td>\n",
              "      <td>NaN</td>\n",
              "    </tr>\n",
              "    <tr>\n",
              "      <th>2011-08-10</th>\n",
              "      <td>0.533333</td>\n",
              "      <td>0.266667</td>\n",
              "      <td>0.466667</td>\n",
              "      <td>0.600000</td>\n",
              "      <td>0.666667</td>\n",
              "      <td>0.800000</td>\n",
              "      <td>0.200000</td>\n",
              "      <td>0.133333</td>\n",
              "      <td>0.400000</td>\n",
              "      <td>NaN</td>\n",
              "      <td>NaN</td>\n",
              "      <td>NaN</td>\n",
              "      <td>NaN</td>\n",
              "    </tr>\n",
              "    <tr>\n",
              "      <th>2011-09-10</th>\n",
              "      <td>0.266667</td>\n",
              "      <td>0.533333</td>\n",
              "      <td>0.266667</td>\n",
              "      <td>0.466667</td>\n",
              "      <td>0.600000</td>\n",
              "      <td>0.666667</td>\n",
              "      <td>0.800000</td>\n",
              "      <td>0.200000</td>\n",
              "      <td>0.133333</td>\n",
              "      <td>0.400000</td>\n",
              "      <td>NaN</td>\n",
              "      <td>NaN</td>\n",
              "      <td>NaN</td>\n",
              "    </tr>\n",
              "    <tr>\n",
              "      <th>2011-10-10</th>\n",
              "      <td>0.133333</td>\n",
              "      <td>0.266667</td>\n",
              "      <td>0.533333</td>\n",
              "      <td>0.266667</td>\n",
              "      <td>0.466667</td>\n",
              "      <td>0.600000</td>\n",
              "      <td>0.666667</td>\n",
              "      <td>0.800000</td>\n",
              "      <td>0.200000</td>\n",
              "      <td>0.133333</td>\n",
              "      <td>0.400000</td>\n",
              "      <td>NaN</td>\n",
              "      <td>NaN</td>\n",
              "    </tr>\n",
              "    <tr>\n",
              "      <th>2011-11-10</th>\n",
              "      <td>0.333333</td>\n",
              "      <td>0.133333</td>\n",
              "      <td>0.266667</td>\n",
              "      <td>0.533333</td>\n",
              "      <td>0.266667</td>\n",
              "      <td>0.466667</td>\n",
              "      <td>0.600000</td>\n",
              "      <td>0.666667</td>\n",
              "      <td>0.800000</td>\n",
              "      <td>0.200000</td>\n",
              "      <td>0.133333</td>\n",
              "      <td>0.400000</td>\n",
              "      <td>NaN</td>\n",
              "    </tr>\n",
              "    <tr>\n",
              "      <th>2011-12-10</th>\n",
              "      <td>0.733333</td>\n",
              "      <td>0.333333</td>\n",
              "      <td>0.133333</td>\n",
              "      <td>0.266667</td>\n",
              "      <td>0.533333</td>\n",
              "      <td>0.266667</td>\n",
              "      <td>0.466667</td>\n",
              "      <td>0.600000</td>\n",
              "      <td>0.666667</td>\n",
              "      <td>0.800000</td>\n",
              "      <td>0.200000</td>\n",
              "      <td>0.133333</td>\n",
              "      <td>0.4</td>\n",
              "    </tr>\n",
              "  </tbody>\n",
              "</table>\n",
              "</div>\n",
              "      <button class=\"colab-df-convert\" onclick=\"convertToInteractive('df-dab6812a-bd2d-477f-a02d-3563bc53f895')\"\n",
              "              title=\"Convert this dataframe to an interactive table.\"\n",
              "              style=\"display:none;\">\n",
              "        \n",
              "  <svg xmlns=\"http://www.w3.org/2000/svg\" height=\"24px\"viewBox=\"0 0 24 24\"\n",
              "       width=\"24px\">\n",
              "    <path d=\"M0 0h24v24H0V0z\" fill=\"none\"/>\n",
              "    <path d=\"M18.56 5.44l.94 2.06.94-2.06 2.06-.94-2.06-.94-.94-2.06-.94 2.06-2.06.94zm-11 1L8.5 8.5l.94-2.06 2.06-.94-2.06-.94L8.5 2.5l-.94 2.06-2.06.94zm10 10l.94 2.06.94-2.06 2.06-.94-2.06-.94-.94-2.06-.94 2.06-2.06.94z\"/><path d=\"M17.41 7.96l-1.37-1.37c-.4-.4-.92-.59-1.43-.59-.52 0-1.04.2-1.43.59L10.3 9.45l-7.72 7.72c-.78.78-.78 2.05 0 2.83L4 21.41c.39.39.9.59 1.41.59.51 0 1.02-.2 1.41-.59l7.78-7.78 2.81-2.81c.8-.78.8-2.07 0-2.86zM5.41 20L4 18.59l7.72-7.72 1.47 1.35L5.41 20z\"/>\n",
              "  </svg>\n",
              "      </button>\n",
              "      \n",
              "  <style>\n",
              "    .colab-df-container {\n",
              "      display:flex;\n",
              "      flex-wrap:wrap;\n",
              "      gap: 12px;\n",
              "    }\n",
              "\n",
              "    .colab-df-convert {\n",
              "      background-color: #E8F0FE;\n",
              "      border: none;\n",
              "      border-radius: 50%;\n",
              "      cursor: pointer;\n",
              "      display: none;\n",
              "      fill: #1967D2;\n",
              "      height: 32px;\n",
              "      padding: 0 0 0 0;\n",
              "      width: 32px;\n",
              "    }\n",
              "\n",
              "    .colab-df-convert:hover {\n",
              "      background-color: #E2EBFA;\n",
              "      box-shadow: 0px 1px 2px rgba(60, 64, 67, 0.3), 0px 1px 3px 1px rgba(60, 64, 67, 0.15);\n",
              "      fill: #174EA6;\n",
              "    }\n",
              "\n",
              "    [theme=dark] .colab-df-convert {\n",
              "      background-color: #3B4455;\n",
              "      fill: #D2E3FC;\n",
              "    }\n",
              "\n",
              "    [theme=dark] .colab-df-convert:hover {\n",
              "      background-color: #434B5C;\n",
              "      box-shadow: 0px 1px 3px 1px rgba(0, 0, 0, 0.15);\n",
              "      filter: drop-shadow(0px 1px 2px rgba(0, 0, 0, 0.3));\n",
              "      fill: #FFFFFF;\n",
              "    }\n",
              "  </style>\n",
              "\n",
              "      <script>\n",
              "        const buttonEl =\n",
              "          document.querySelector('#df-dab6812a-bd2d-477f-a02d-3563bc53f895 button.colab-df-convert');\n",
              "        buttonEl.style.display =\n",
              "          google.colab.kernel.accessAllowed ? 'block' : 'none';\n",
              "\n",
              "        async function convertToInteractive(key) {\n",
              "          const element = document.querySelector('#df-dab6812a-bd2d-477f-a02d-3563bc53f895');\n",
              "          const dataTable =\n",
              "            await google.colab.kernel.invokeFunction('convertToInteractive',\n",
              "                                                     [key], {});\n",
              "          if (!dataTable) return;\n",
              "\n",
              "          const docLinkHtml = 'Like what you see? Visit the ' +\n",
              "            '<a target=\"_blank\" href=https://colab.research.google.com/notebooks/data_table.ipynb>data table notebook</a>'\n",
              "            + ' to learn more about interactive tables.';\n",
              "          element.innerHTML = '';\n",
              "          dataTable['output_type'] = 'display_data';\n",
              "          await google.colab.output.renderOutput(dataTable, element);\n",
              "          const docLink = document.createElement('div');\n",
              "          docLink.innerHTML = docLinkHtml;\n",
              "          element.appendChild(docLink);\n",
              "        }\n",
              "      </script>\n",
              "    </div>\n",
              "  </div>\n",
              "  "
            ]
          },
          "metadata": {},
          "execution_count": 46
        }
      ]
    },
    {
      "cell_type": "code",
      "source": [
        "X_train = train_sc_df.dropna().drop('N', axis=1)\n",
        "y_train = train_sc_df.dropna()[['N']]\n",
        "\n",
        "X_valid = valid_sc_df.dropna().drop('N', axis=1)\n",
        "y_valid = valid_sc_df.dropna()[['N']]\n",
        "\n",
        "X_test = test_sc_df.dropna().drop('N', axis=1)\n",
        "y_test = test_sc_df.dropna()[['N']]\n",
        "\n",
        "X_train.head()"
      ],
      "metadata": {
        "colab": {
          "base_uri": "https://localhost:8080/",
          "height": 388
        },
        "id": "jFPsdfsY2q63",
        "outputId": "90c7afa2-f75d-4ef4-8901-443702c3ea1d"
      },
      "execution_count": null,
      "outputs": [
        {
          "output_type": "execute_result",
          "data": {
            "text/plain": [
              "             shift_1   shift_2   shift_3   shift_4   shift_5   shift_6  \\\n",
              "date                                                                     \n",
              "2011-12-10  0.333333  0.133333  0.266667  0.533333  0.266667  0.466667   \n",
              "2010-01-10  0.733333  0.333333  0.133333  0.266667  0.533333  0.266667   \n",
              "2010-02-10  0.200000  0.733333  0.333333  0.133333  0.266667  0.533333   \n",
              "2010-03-10  0.466667  0.200000  0.733333  0.333333  0.133333  0.266667   \n",
              "2010-04-10  1.000000  0.466667  0.200000  0.733333  0.333333  0.133333   \n",
              "\n",
              "             shift_7   shift_8   shift_9  shift_10  shift_11  shift_12  \n",
              "date                                                                    \n",
              "2011-12-10  0.600000  0.666667  0.800000  0.200000  0.133333  0.400000  \n",
              "2010-01-10  0.466667  0.600000  0.666667  0.800000  0.200000  0.133333  \n",
              "2010-02-10  0.266667  0.466667  0.600000  0.666667  0.800000  0.200000  \n",
              "2010-03-10  0.533333  0.266667  0.466667  0.600000  0.666667  0.800000  \n",
              "2010-04-10  0.266667  0.533333  0.266667  0.466667  0.600000  0.666667  "
            ],
            "text/html": [
              "\n",
              "  <div id=\"df-452fdaf2-0039-47b3-9d8f-d8a9e2111d19\">\n",
              "    <div class=\"colab-df-container\">\n",
              "      <div>\n",
              "<style scoped>\n",
              "    .dataframe tbody tr th:only-of-type {\n",
              "        vertical-align: middle;\n",
              "    }\n",
              "\n",
              "    .dataframe tbody tr th {\n",
              "        vertical-align: top;\n",
              "    }\n",
              "\n",
              "    .dataframe thead th {\n",
              "        text-align: right;\n",
              "    }\n",
              "</style>\n",
              "<table border=\"1\" class=\"dataframe\">\n",
              "  <thead>\n",
              "    <tr style=\"text-align: right;\">\n",
              "      <th></th>\n",
              "      <th>shift_1</th>\n",
              "      <th>shift_2</th>\n",
              "      <th>shift_3</th>\n",
              "      <th>shift_4</th>\n",
              "      <th>shift_5</th>\n",
              "      <th>shift_6</th>\n",
              "      <th>shift_7</th>\n",
              "      <th>shift_8</th>\n",
              "      <th>shift_9</th>\n",
              "      <th>shift_10</th>\n",
              "      <th>shift_11</th>\n",
              "      <th>shift_12</th>\n",
              "    </tr>\n",
              "    <tr>\n",
              "      <th>date</th>\n",
              "      <th></th>\n",
              "      <th></th>\n",
              "      <th></th>\n",
              "      <th></th>\n",
              "      <th></th>\n",
              "      <th></th>\n",
              "      <th></th>\n",
              "      <th></th>\n",
              "      <th></th>\n",
              "      <th></th>\n",
              "      <th></th>\n",
              "      <th></th>\n",
              "    </tr>\n",
              "  </thead>\n",
              "  <tbody>\n",
              "    <tr>\n",
              "      <th>2011-12-10</th>\n",
              "      <td>0.333333</td>\n",
              "      <td>0.133333</td>\n",
              "      <td>0.266667</td>\n",
              "      <td>0.533333</td>\n",
              "      <td>0.266667</td>\n",
              "      <td>0.466667</td>\n",
              "      <td>0.600000</td>\n",
              "      <td>0.666667</td>\n",
              "      <td>0.800000</td>\n",
              "      <td>0.200000</td>\n",
              "      <td>0.133333</td>\n",
              "      <td>0.400000</td>\n",
              "    </tr>\n",
              "    <tr>\n",
              "      <th>2010-01-10</th>\n",
              "      <td>0.733333</td>\n",
              "      <td>0.333333</td>\n",
              "      <td>0.133333</td>\n",
              "      <td>0.266667</td>\n",
              "      <td>0.533333</td>\n",
              "      <td>0.266667</td>\n",
              "      <td>0.466667</td>\n",
              "      <td>0.600000</td>\n",
              "      <td>0.666667</td>\n",
              "      <td>0.800000</td>\n",
              "      <td>0.200000</td>\n",
              "      <td>0.133333</td>\n",
              "    </tr>\n",
              "    <tr>\n",
              "      <th>2010-02-10</th>\n",
              "      <td>0.200000</td>\n",
              "      <td>0.733333</td>\n",
              "      <td>0.333333</td>\n",
              "      <td>0.133333</td>\n",
              "      <td>0.266667</td>\n",
              "      <td>0.533333</td>\n",
              "      <td>0.266667</td>\n",
              "      <td>0.466667</td>\n",
              "      <td>0.600000</td>\n",
              "      <td>0.666667</td>\n",
              "      <td>0.800000</td>\n",
              "      <td>0.200000</td>\n",
              "    </tr>\n",
              "    <tr>\n",
              "      <th>2010-03-10</th>\n",
              "      <td>0.466667</td>\n",
              "      <td>0.200000</td>\n",
              "      <td>0.733333</td>\n",
              "      <td>0.333333</td>\n",
              "      <td>0.133333</td>\n",
              "      <td>0.266667</td>\n",
              "      <td>0.533333</td>\n",
              "      <td>0.266667</td>\n",
              "      <td>0.466667</td>\n",
              "      <td>0.600000</td>\n",
              "      <td>0.666667</td>\n",
              "      <td>0.800000</td>\n",
              "    </tr>\n",
              "    <tr>\n",
              "      <th>2010-04-10</th>\n",
              "      <td>1.000000</td>\n",
              "      <td>0.466667</td>\n",
              "      <td>0.200000</td>\n",
              "      <td>0.733333</td>\n",
              "      <td>0.333333</td>\n",
              "      <td>0.133333</td>\n",
              "      <td>0.266667</td>\n",
              "      <td>0.533333</td>\n",
              "      <td>0.266667</td>\n",
              "      <td>0.466667</td>\n",
              "      <td>0.600000</td>\n",
              "      <td>0.666667</td>\n",
              "    </tr>\n",
              "  </tbody>\n",
              "</table>\n",
              "</div>\n",
              "      <button class=\"colab-df-convert\" onclick=\"convertToInteractive('df-452fdaf2-0039-47b3-9d8f-d8a9e2111d19')\"\n",
              "              title=\"Convert this dataframe to an interactive table.\"\n",
              "              style=\"display:none;\">\n",
              "        \n",
              "  <svg xmlns=\"http://www.w3.org/2000/svg\" height=\"24px\"viewBox=\"0 0 24 24\"\n",
              "       width=\"24px\">\n",
              "    <path d=\"M0 0h24v24H0V0z\" fill=\"none\"/>\n",
              "    <path d=\"M18.56 5.44l.94 2.06.94-2.06 2.06-.94-2.06-.94-.94-2.06-.94 2.06-2.06.94zm-11 1L8.5 8.5l.94-2.06 2.06-.94-2.06-.94L8.5 2.5l-.94 2.06-2.06.94zm10 10l.94 2.06.94-2.06 2.06-.94-2.06-.94-.94-2.06-.94 2.06-2.06.94z\"/><path d=\"M17.41 7.96l-1.37-1.37c-.4-.4-.92-.59-1.43-.59-.52 0-1.04.2-1.43.59L10.3 9.45l-7.72 7.72c-.78.78-.78 2.05 0 2.83L4 21.41c.39.39.9.59 1.41.59.51 0 1.02-.2 1.41-.59l7.78-7.78 2.81-2.81c.8-.78.8-2.07 0-2.86zM5.41 20L4 18.59l7.72-7.72 1.47 1.35L5.41 20z\"/>\n",
              "  </svg>\n",
              "      </button>\n",
              "      \n",
              "  <style>\n",
              "    .colab-df-container {\n",
              "      display:flex;\n",
              "      flex-wrap:wrap;\n",
              "      gap: 12px;\n",
              "    }\n",
              "\n",
              "    .colab-df-convert {\n",
              "      background-color: #E8F0FE;\n",
              "      border: none;\n",
              "      border-radius: 50%;\n",
              "      cursor: pointer;\n",
              "      display: none;\n",
              "      fill: #1967D2;\n",
              "      height: 32px;\n",
              "      padding: 0 0 0 0;\n",
              "      width: 32px;\n",
              "    }\n",
              "\n",
              "    .colab-df-convert:hover {\n",
              "      background-color: #E2EBFA;\n",
              "      box-shadow: 0px 1px 2px rgba(60, 64, 67, 0.3), 0px 1px 3px 1px rgba(60, 64, 67, 0.15);\n",
              "      fill: #174EA6;\n",
              "    }\n",
              "\n",
              "    [theme=dark] .colab-df-convert {\n",
              "      background-color: #3B4455;\n",
              "      fill: #D2E3FC;\n",
              "    }\n",
              "\n",
              "    [theme=dark] .colab-df-convert:hover {\n",
              "      background-color: #434B5C;\n",
              "      box-shadow: 0px 1px 3px 1px rgba(0, 0, 0, 0.15);\n",
              "      filter: drop-shadow(0px 1px 2px rgba(0, 0, 0, 0.3));\n",
              "      fill: #FFFFFF;\n",
              "    }\n",
              "  </style>\n",
              "\n",
              "      <script>\n",
              "        const buttonEl =\n",
              "          document.querySelector('#df-452fdaf2-0039-47b3-9d8f-d8a9e2111d19 button.colab-df-convert');\n",
              "        buttonEl.style.display =\n",
              "          google.colab.kernel.accessAllowed ? 'block' : 'none';\n",
              "\n",
              "        async function convertToInteractive(key) {\n",
              "          const element = document.querySelector('#df-452fdaf2-0039-47b3-9d8f-d8a9e2111d19');\n",
              "          const dataTable =\n",
              "            await google.colab.kernel.invokeFunction('convertToInteractive',\n",
              "                                                     [key], {});\n",
              "          if (!dataTable) return;\n",
              "\n",
              "          const docLinkHtml = 'Like what you see? Visit the ' +\n",
              "            '<a target=\"_blank\" href=https://colab.research.google.com/notebooks/data_table.ipynb>data table notebook</a>'\n",
              "            + ' to learn more about interactive tables.';\n",
              "          element.innerHTML = '';\n",
              "          dataTable['output_type'] = 'display_data';\n",
              "          await google.colab.output.renderOutput(dataTable, element);\n",
              "          const docLink = document.createElement('div');\n",
              "          docLink.innerHTML = docLinkHtml;\n",
              "          element.appendChild(docLink);\n",
              "        }\n",
              "      </script>\n",
              "    </div>\n",
              "  </div>\n",
              "  "
            ]
          },
          "metadata": {},
          "execution_count": 47
        }
      ]
    },
    {
      "cell_type": "code",
      "source": [
        "X_train = X_train.values\n",
        "X_valid = X_valid.values # 추가\n",
        "X_test= X_test.values\n",
        "\n",
        "y_train = y_train.values\n",
        "y_valid = y_valid.values # 추가\n",
        "y_test = y_test.values"
      ],
      "metadata": {
        "id": "tLPpZckd2q5Y"
      },
      "execution_count": null,
      "outputs": []
    },
    {
      "cell_type": "code",
      "source": [
        "X_train_t = X_train.reshape(X_train.shape[0], 12, 1)\n",
        "X_valid_t = X_valid.reshape(X_valid.shape[0], 12, 1) # 추가\n",
        "X_test_t = X_test.reshape(X_test.shape[0], 12, 1)\n",
        "print(\"최종 DATA\")\n",
        "print(X_train_t.shape, X_valid_t.shape, X_test_t.shape)"
      ],
      "metadata": {
        "colab": {
          "base_uri": "https://localhost:8080/"
        },
        "id": "s0-_qjNO2q21",
        "outputId": "8d52628c-5355-4992-ff49-d38ea56c2cc7"
      },
      "execution_count": null,
      "outputs": [
        {
          "output_type": "stream",
          "name": "stdout",
          "text": [
            "최종 DATA\n",
            "(129, 12, 1) (44, 12, 1) (53, 12, 1)\n"
          ]
        }
      ]
    },
    {
      "cell_type": "code",
      "source": [
        "model = Sequential() # Sequeatial Model \n",
        "model.add(LSTM(50,activation='relu', input_shape=(12, 1))) # (timestep, feature) \n",
        "model.add(Dense(1)) # output = 1 \n",
        "model.compile(loss='mae', optimizer='adam',metrics=['mae']) \n",
        "model.summary()"
      ],
      "metadata": {
        "colab": {
          "base_uri": "https://localhost:8080/"
        },
        "id": "ruq7FP6z3rQv",
        "outputId": "6292d7cb-a3b5-475a-eca7-6901ad9c6963"
      },
      "execution_count": null,
      "outputs": [
        {
          "output_type": "stream",
          "name": "stdout",
          "text": [
            "WARNING:tensorflow:Layer lstm will not use cuDNN kernels since it doesn't meet the criteria. It will use a generic GPU kernel as fallback when running on GPU.\n",
            "Model: \"sequential\"\n",
            "_________________________________________________________________\n",
            " Layer (type)                Output Shape              Param #   \n",
            "=================================================================\n",
            " lstm (LSTM)                 (None, 50)                10400     \n",
            "                                                                 \n",
            " dense (Dense)               (None, 1)                 51        \n",
            "                                                                 \n",
            "=================================================================\n",
            "Total params: 10,451\n",
            "Trainable params: 10,451\n",
            "Non-trainable params: 0\n",
            "_________________________________________________________________\n"
          ]
        }
      ]
    },
    {
      "cell_type": "code",
      "source": [
        "# 더 깊은 모델\n",
        "deep_model = Sequential() # Sequeatial Model \n",
        "deep_model.add(LSTM(50,activation='relu', input_shape=(12, 1))) # (timestep, feature) \n",
        "deep_model.add(Dense(32, activation='relu'))\n",
        "deep_model.add(Dropout(0.2))\n",
        "deep_model.add(Dense(8, activation='relu'))\n",
        "deep_model.add(Dropout(0.2))\n",
        "deep_model.add(Dense(1)) # output = 1 \n",
        "deep_model.compile(loss='mae', optimizer='adam',metrics=['mae']) \n",
        "deep_model.summary()"
      ],
      "metadata": {
        "colab": {
          "base_uri": "https://localhost:8080/"
        },
        "id": "vNF1x-s23rOW",
        "outputId": "6b92787a-1671-41de-a5a8-0773053e7ae4"
      },
      "execution_count": null,
      "outputs": [
        {
          "output_type": "stream",
          "name": "stdout",
          "text": [
            "WARNING:tensorflow:Layer lstm_1 will not use cuDNN kernels since it doesn't meet the criteria. It will use a generic GPU kernel as fallback when running on GPU.\n",
            "Model: \"sequential_1\"\n",
            "_________________________________________________________________\n",
            " Layer (type)                Output Shape              Param #   \n",
            "=================================================================\n",
            " lstm_1 (LSTM)               (None, 50)                10400     \n",
            "                                                                 \n",
            " dense_1 (Dense)             (None, 32)                1632      \n",
            "                                                                 \n",
            " dropout (Dropout)           (None, 32)                0         \n",
            "                                                                 \n",
            " dense_2 (Dense)             (None, 8)                 264       \n",
            "                                                                 \n",
            " dropout_1 (Dropout)         (None, 8)                 0         \n",
            "                                                                 \n",
            " dense_3 (Dense)             (None, 1)                 9         \n",
            "                                                                 \n",
            "=================================================================\n",
            "Total params: 12,305\n",
            "Trainable params: 12,305\n",
            "Non-trainable params: 0\n",
            "_________________________________________________________________\n"
          ]
        }
      ]
    },
    {
      "cell_type": "code",
      "source": [
        "es = EarlyStopping(monitor='val_loss', mode='min',\n",
        "                   verbose=1, patience=5)\n",
        "mc = ModelCheckpoint('best_model.h5',\n",
        "                     monitor='val_loss',\n",
        "                     mode='min',\n",
        "                     save_best_only=True)\n",
        "model_history = model.fit(X_train_t, y_train,\n",
        "                          validation_data=(X_valid_t, y_valid),\n",
        "                          epochs=1000, batch_size=32,\n",
        "                          callbacks=[es, mc], verbose=1)"
      ],
      "metadata": {
        "colab": {
          "base_uri": "https://localhost:8080/"
        },
        "id": "LgrAPI5u3rMD",
        "outputId": "6e1f8319-5189-49f1-c5c1-0cd1ee0d5981"
      },
      "execution_count": null,
      "outputs": [
        {
          "output_type": "stream",
          "name": "stdout",
          "text": [
            "Epoch 1/1000\n",
            "5/5 [==============================] - 6s 242ms/step - loss: 0.2584 - mae: 0.2584 - val_loss: 0.4327 - val_mae: 0.4327\n",
            "Epoch 2/1000\n",
            "5/5 [==============================] - 0s 67ms/step - loss: 0.2119 - mae: 0.2119 - val_loss: 0.3501 - val_mae: 0.3501\n",
            "Epoch 3/1000\n",
            "5/5 [==============================] - 1s 109ms/step - loss: 0.1748 - mae: 0.1748 - val_loss: 0.2761 - val_mae: 0.2761\n",
            "Epoch 4/1000\n",
            "5/5 [==============================] - 0s 86ms/step - loss: 0.1556 - mae: 0.1556 - val_loss: 0.2313 - val_mae: 0.2313\n",
            "Epoch 5/1000\n",
            "5/5 [==============================] - 0s 100ms/step - loss: 0.1490 - mae: 0.1490 - val_loss: 0.2204 - val_mae: 0.2204\n",
            "Epoch 6/1000\n",
            "5/5 [==============================] - 0s 91ms/step - loss: 0.1485 - mae: 0.1485 - val_loss: 0.2199 - val_mae: 0.2199\n",
            "Epoch 7/1000\n",
            "5/5 [==============================] - 0s 70ms/step - loss: 0.1486 - mae: 0.1486 - val_loss: 0.2240 - val_mae: 0.2240\n",
            "Epoch 8/1000\n",
            "5/5 [==============================] - 0s 91ms/step - loss: 0.1485 - mae: 0.1485 - val_loss: 0.2150 - val_mae: 0.2150\n",
            "Epoch 9/1000\n",
            "5/5 [==============================] - 0s 86ms/step - loss: 0.1489 - mae: 0.1489 - val_loss: 0.2034 - val_mae: 0.2034\n",
            "Epoch 10/1000\n",
            "5/5 [==============================] - 0s 92ms/step - loss: 0.1501 - mae: 0.1501 - val_loss: 0.1999 - val_mae: 0.1999\n",
            "Epoch 11/1000\n",
            "5/5 [==============================] - 0s 70ms/step - loss: 0.1507 - mae: 0.1507 - val_loss: 0.2086 - val_mae: 0.2086\n",
            "Epoch 12/1000\n",
            "5/5 [==============================] - 0s 56ms/step - loss: 0.1498 - mae: 0.1498 - val_loss: 0.2262 - val_mae: 0.2262\n",
            "Epoch 13/1000\n",
            "5/5 [==============================] - 0s 57ms/step - loss: 0.1495 - mae: 0.1495 - val_loss: 0.2436 - val_mae: 0.2436\n",
            "Epoch 14/1000\n",
            "5/5 [==============================] - 0s 82ms/step - loss: 0.1528 - mae: 0.1528 - val_loss: 0.2564 - val_mae: 0.2564\n",
            "Epoch 15/1000\n",
            "5/5 [==============================] - 0s 63ms/step - loss: 0.1555 - mae: 0.1555 - val_loss: 0.2561 - val_mae: 0.2561\n",
            "Epoch 15: early stopping\n"
          ]
        }
      ]
    },
    {
      "cell_type": "code",
      "source": [
        "es = EarlyStopping(monitor='val_loss', mode='min',\n",
        "                   verbose=1, patience=5)\n",
        "mc = ModelCheckpoint('best_model.h5',\n",
        "                     monitor='val_loss',\n",
        "                     mode='min',\n",
        "                     save_best_only=True)\n",
        "deep_model_history = deep_model.fit(X_train_t, y_train,\n",
        "                                    validation_data=(X_valid_t, y_valid),\n",
        "                                    epochs=1000, batch_size=32,\n",
        "                                    callbacks=[es, mc], verbose=1)"
      ],
      "metadata": {
        "colab": {
          "base_uri": "https://localhost:8080/"
        },
        "id": "QWTBFdF-3rJr",
        "outputId": "6c60ab54-fa9a-469e-879c-93f11a15baba"
      },
      "execution_count": null,
      "outputs": [
        {
          "output_type": "stream",
          "name": "stdout",
          "text": [
            "Epoch 1/1000\n",
            "5/5 [==============================] - 2s 113ms/step - loss: 0.2771 - mae: 0.2771 - val_loss: 0.5046 - val_mae: 0.5046\n",
            "Epoch 2/1000\n",
            "5/5 [==============================] - 0s 52ms/step - loss: 0.2465 - mae: 0.2465 - val_loss: 0.4630 - val_mae: 0.4630\n",
            "Epoch 3/1000\n",
            "5/5 [==============================] - 0s 50ms/step - loss: 0.2174 - mae: 0.2174 - val_loss: 0.4085 - val_mae: 0.4085\n",
            "Epoch 4/1000\n",
            "5/5 [==============================] - 0s 51ms/step - loss: 0.1817 - mae: 0.1817 - val_loss: 0.3319 - val_mae: 0.3319\n",
            "Epoch 5/1000\n",
            "5/5 [==============================] - 0s 48ms/step - loss: 0.1707 - mae: 0.1707 - val_loss: 0.2730 - val_mae: 0.2730\n",
            "Epoch 6/1000\n",
            "5/5 [==============================] - 0s 47ms/step - loss: 0.1662 - mae: 0.1662 - val_loss: 0.2746 - val_mae: 0.2746\n",
            "Epoch 7/1000\n",
            "5/5 [==============================] - 0s 39ms/step - loss: 0.1679 - mae: 0.1679 - val_loss: 0.2808 - val_mae: 0.2808\n",
            "Epoch 8/1000\n",
            "5/5 [==============================] - 0s 39ms/step - loss: 0.1628 - mae: 0.1628 - val_loss: 0.2776 - val_mae: 0.2776\n",
            "Epoch 9/1000\n",
            "5/5 [==============================] - 0s 42ms/step - loss: 0.1647 - mae: 0.1647 - val_loss: 0.2864 - val_mae: 0.2864\n",
            "Epoch 10/1000\n",
            "5/5 [==============================] - 0s 40ms/step - loss: 0.1695 - mae: 0.1695 - val_loss: 0.2941 - val_mae: 0.2941\n",
            "Epoch 10: early stopping\n"
          ]
        }
      ]
    },
    {
      "cell_type": "code",
      "source": [
        "from sklearn.metrics import mean_absolute_error, mean_absolute_percentage_error\n",
        "pred = model.predict(X_test_t)\n",
        "mae_model = mean_absolute_error(y_true=y_test, y_pred=pred)\n",
        "mape_model = mean_absolute_percentage_error(y_true=y_test, y_pred=pred)\n",
        "print(mae_model, mape_model)"
      ],
      "metadata": {
        "colab": {
          "base_uri": "https://localhost:8080/"
        },
        "id": "wRlVhSZA2q0N",
        "outputId": "b4db5d93-7b95-4b42-be5f-146f2de04d58"
      },
      "execution_count": null,
      "outputs": [
        {
          "output_type": "stream",
          "name": "stdout",
          "text": [
            "1.0789004716483301 0.678206266317888\n"
          ]
        }
      ]
    },
    {
      "cell_type": "code",
      "source": [
        "deep_pred = deep_model.predict(X_test_t)\n",
        "mae_deep_model = mean_absolute_error(y_true=y_test, y_pred=deep_pred)\n",
        "mape_deep_model = mean_absolute_percentage_error(y_true=y_test, y_pred=deep_pred)\n",
        "print(mae_deep_model, mape_deep_model)"
      ],
      "metadata": {
        "colab": {
          "base_uri": "https://localhost:8080/"
        },
        "id": "lYD0AIuX5QlC",
        "outputId": "6f6abe5a-54c1-40f3-b855-1e021c439de8"
      },
      "execution_count": null,
      "outputs": [
        {
          "output_type": "stream",
          "name": "stdout",
          "text": [
            "1.3008731549640873 0.7071208447718679\n"
          ]
        }
      ]
    },
    {
      "cell_type": "code",
      "source": [
        "fig, ax = plt.subplots()\n",
        "ax.plot(model_history.history['loss'],\n",
        "        'bo-', label='Train loss of LSTM')\n",
        "ax.plot(model_history.history['val_loss'],\n",
        "        'b^-', label='Valid loss of LSTM')\n",
        "\n",
        "ax.plot(deep_model_history.history['loss'],\n",
        "        'ro-', label='Train loss of Deep LSTM')\n",
        "ax.plot(deep_model_history.history['val_loss'],\n",
        "        'r^-', label='Valid loss of Deep LSTM')\n",
        "\n",
        "ax.set_xlabel('epoch')\n",
        "ax.set_ylabel('loss')\n",
        "\n",
        "ax.legend(loc='upper right')\n",
        "plt.show()"
      ],
      "metadata": {
        "colab": {
          "base_uri": "https://localhost:8080/",
          "height": 279
        },
        "id": "Usugd4y35z5q",
        "outputId": "7b047428-d556-4665-fabe-8887402a7fdd"
      },
      "execution_count": null,
      "outputs": [
        {
          "output_type": "display_data",
          "data": {
            "text/plain": [
              "<Figure size 432x288 with 1 Axes>"
            ],
            "image/png": "[encoded data removed]"
          },
          "metadata": {
            "needs_background": "light"
          }
        }
      ]
    },
    {
      "cell_type": "code",
      "source": [
        "fig, ax = plt.subplots()\n",
        "ax.plot(model_history.history['mae'],\n",
        "        'bo-', label='Train MAE of LSTM')\n",
        "ax.plot(model_history.history['val_mae'],\n",
        "        'b^-', label='Valid MAE of LSTM')\n",
        "\n",
        "ax.plot(deep_model_history.history['mae'],\n",
        "        'ro-', label='Train MAE of Deep LSTM')\n",
        "ax.plot(deep_model_history.history['val_mae'],\n",
        "        'r^-', label='Valid MAE of Deep LSTM')\n",
        "\n",
        "ax.set_xlabel('epoch')\n",
        "ax.set_ylabel('MAE')\n",
        "\n",
        "ax.legend(loc='upper right')\n",
        "plt.show()"
      ],
      "metadata": {
        "colab": {
          "base_uri": "https://localhost:8080/",
          "height": 279
        },
        "id": "-IX1T5T42qyQ",
        "outputId": "af3be868-5329-4b68-fffe-0c726de262f6"
      },
      "execution_count": null,
      "outputs": [
        {
          "output_type": "display_data",
          "data": {
            "text/plain": [
              "<Figure size 432x288 with 1 Axes>"
            ],
            "image/png": "[encoded data removed]"
          },
          "metadata": {
            "needs_background": "light"
          }
        }
      ]
    },
    {
      "cell_type": "code",
      "source": [
        "t_df = test_sc_df.dropna()\n",
        "y_test_df = pd.DataFrame(y_test, columns=['N'], index=t_df.index)\n",
        "y_pred_df = pd.DataFrame(pred, columns=['N'], index=t_df.index)\n",
        "y_deep_pred_df = pd.DataFrame(deep_pred, columns=['N'], index=t_df.index)\n",
        "\n",
        "ax1 = y_test_df.plot()\n",
        "y_pred_df.plot(ax=ax1)\n",
        "y_deep_pred_df.plot(ax=ax1)\n",
        "plt.legend(['Actual', 'Predicted_LSTM', 'Predicted_Deep_LSTM'])"
      ],
      "metadata": {
        "colab": {
          "base_uri": "https://localhost:8080/",
          "height": 287
        },
        "id": "p9CBZMeS6ucR",
        "outputId": "508b7123-d515-47f3-bd05-f51e2cdb4fac"
      },
      "execution_count": null,
      "outputs": [
        {
          "output_type": "execute_result",
          "data": {
            "text/plain": [
              "<matplotlib.legend.Legend at 0x7fbe0c801250>"
            ]
          },
          "metadata": {},
          "execution_count": 64
        },
        {
          "output_type": "display_data",
          "data": {
            "text/plain": [
              "<Figure size 432x288 with 1 Axes>"
            ],
            "image/png": "[encoded data removed]"
          },
          "metadata": {
            "needs_background": "light"
          }
        }
      ]
    }
  ]
}