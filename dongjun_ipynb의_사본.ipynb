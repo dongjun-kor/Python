{
  "nbformat": 4,
  "nbformat_minor": 0,
  "metadata": {
    "colab": {
      "name": "dongjun.ipynb의 사본",
      "provenance": [],
      "collapsed_sections": [],
      "include_colab_link": true
    },
    "kernelspec": {
      "name": "python3",
      "display_name": "Python 3"
    },
    "language_info": {
      "name": "python"
    },
    "accelerator": "GPU"
  },
  "cells": [
    {
      "cell_type": "markdown",
      "metadata": {
        "id": "view-in-github",
        "colab_type": "text"
      },
      "source": [
        "<a href=\"https://colab.research.google.com/github/dongjun-kor/Python/blob/main/dongjun_ipynb%EC%9D%98_%EC%82%AC%EB%B3%B8.ipynb\" target=\"_parent\"><img src=\"https://colab.research.google.com/assets/colab-badge.svg\" alt=\"Open In Colab\"/></a>"
      ]
    },
    {
      "cell_type": "markdown",
      "source": [
        "# 영감: lee-ju"
      ],
      "metadata": {
        "id": "aaTY1yxD9dpA"
      }
    },
    {
      "cell_type": "code",
      "execution_count": 5,
      "metadata": {
        "id": "aBv_8SMYjO1L",
        "colab": {
          "base_uri": "https://localhost:8080/"
        },
        "outputId": "e6dd2236-72d4-4dac-e982-e1bec0452548"
      },
      "outputs": [
        {
          "output_type": "stream",
          "name": "stdout",
          "text": [
            "Drive already mounted at /content/drive; to attempt to forcibly remount, call drive.mount(\"/content/drive\", force_remount=True).\n"
          ]
        }
      ],
      "source": [
        "# 드라이브 연결\n",
        "from google.colab import drive\n",
        "drive.mount('/content/drive')"
      ]
    },
    {
      "cell_type": "code",
      "source": [
        "\"\"\"import os, sys\n",
        "pkg_path = '/content/packages'\n",
        "os.symlink('/content/drive/MyDrive/Colab Notebooks', pkg_path)\n",
        "sys.path.insert(0, pkg_path)\"\"\""
      ],
      "metadata": {
        "id": "KhTN66gvmTqm",
        "colab": {
          "base_uri": "https://localhost:8080/",
          "height": 35
        },
        "outputId": "d8274944-80e5-4ba0-eaf3-5c67ad1c4db6"
      },
      "execution_count": 6,
      "outputs": [
        {
          "output_type": "execute_result",
          "data": {
            "text/plain": [
              "\"import os, sys\\npkg_path = '/content/packages'\\nos.symlink('/content/drive/MyDrive/Colab Notebooks', pkg_path)\\nsys.path.insert(0, pkg_path)\""
            ],
            "application/vnd.google.colaboratory.intrinsic+json": {
              "type": "string"
            }
          },
          "metadata": {},
          "execution_count": 6
        }
      ]
    },
    {
      "cell_type": "code",
      "source": [
        "\"\"\"#!pip install git+https://github.com/lee-ju/Statistical_Quality_Control.git\n",
        "#!pip install --target=$pkg_path git+https://github.com/lee-ju/Statistical_Quality_Control.git\n",
        "#!pip uninstall Statistical_Quality_Control\n",
        "!pip install --target=$pkg_path git+https://github.com/lee-ju/Statistical_Quality_Control.git --upgrade\"\"\""
      ],
      "metadata": {
        "id": "_u8aLnF0mUrE",
        "colab": {
          "base_uri": "https://localhost:8080/",
          "height": 54
        },
        "outputId": "3f293fbe-e198-43ca-82d7-523b2daabd2f"
      },
      "execution_count": 7,
      "outputs": [
        {
          "output_type": "execute_result",
          "data": {
            "text/plain": [
              "'#!pip install git+https://github.com/lee-ju/Statistical_Quality_Control.git\\n#!pip install --target=$pkg_path git+https://github.com/lee-ju/Statistical_Quality_Control.git\\n#!pip uninstall Statistical_Quality_Control\\n!pip install --target=$pkg_path git+https://github.com/lee-ju/Statistical_Quality_Control.git --upgrade'"
            ],
            "application/vnd.google.colaboratory.intrinsic+json": {
              "type": "string"
            }
          },
          "metadata": {},
          "execution_count": 7
        }
      ]
    },
    {
      "cell_type": "code",
      "source": [
        "import tensorflow as tf\n",
        "tf.__version__"
      ],
      "metadata": {
        "colab": {
          "base_uri": "https://localhost:8080/",
          "height": 35
        },
        "id": "6PC9ZXYDPmeY",
        "outputId": "a0387a5b-debd-4cc4-f700-9323da2afe48"
      },
      "execution_count": 8,
      "outputs": [
        {
          "output_type": "execute_result",
          "data": {
            "text/plain": [
              "'2.8.0'"
            ],
            "application/vnd.google.colaboratory.intrinsic+json": {
              "type": "string"
            }
          },
          "metadata": {},
          "execution_count": 8
        }
      ]
    },
    {
      "cell_type": "code",
      "source": [
        "import numpy as np\n",
        "import pandas as pd\n",
        "\n",
        "from tensorflow.keras.models import Sequential\n",
        "from tensorflow.keras.layers import Dense, Dropout, LSTM\n",
        "from tensorflow.keras.callbacks import EarlyStopping, ModelCheckpoint\n",
        "\n",
        "import matplotlib.pyplot as plt\n",
        "%matplotlib inline"
      ],
      "metadata": {
        "id": "zQRK-eyhjQmK"
      },
      "execution_count": 9,
      "outputs": []
    },
    {
      "cell_type": "code",
      "source": [
        "df = pd.read_csv(\"/content/drive/MyDrive/CLSTMipc1.csv\",\n",
        "                 parse_dates =[\"date\"], index_col =\"date\", dtype={'N':'float'},\n",
        "                 engine='python',encoding='euc-kr')\n",
        "df.head()"
      ],
      "metadata": {
        "colab": {
          "base_uri": "https://localhost:8080/",
          "height": 238
        },
        "id": "eum4M0N-vN2l",
        "outputId": "90fe17d6-e785-43ec-b194-5e8e2a7bef66"
      },
      "execution_count": 10,
      "outputs": [
        {
          "output_type": "execute_result",
          "data": {
            "text/plain": [
              "               N\n",
              "date            \n",
              "2020-10-10  20.0\n",
              "2020-09-10  19.0\n",
              "2020-08-10  24.0\n",
              "2020-07-10  31.0\n",
              "2020-06-10  21.0"
            ],
            "text/html": [
              "\n",
              "  <div id=\"df-f37f9d21-1665-44aa-bbfb-054bcafdd0dd\">\n",
              "    <div class=\"colab-df-container\">\n",
              "      <div>\n",
              "<style scoped>\n",
              "    .dataframe tbody tr th:only-of-type {\n",
              "        vertical-align: middle;\n",
              "    }\n",
              "\n",
              "    .dataframe tbody tr th {\n",
              "        vertical-align: top;\n",
              "    }\n",
              "\n",
              "    .dataframe thead th {\n",
              "        text-align: right;\n",
              "    }\n",
              "</style>\n",
              "<table border=\"1\" class=\"dataframe\">\n",
              "  <thead>\n",
              "    <tr style=\"text-align: right;\">\n",
              "      <th></th>\n",
              "      <th>N</th>\n",
              "    </tr>\n",
              "    <tr>\n",
              "      <th>date</th>\n",
              "      <th></th>\n",
              "    </tr>\n",
              "  </thead>\n",
              "  <tbody>\n",
              "    <tr>\n",
              "      <th>2020-10-10</th>\n",
              "      <td>20.0</td>\n",
              "    </tr>\n",
              "    <tr>\n",
              "      <th>2020-09-10</th>\n",
              "      <td>19.0</td>\n",
              "    </tr>\n",
              "    <tr>\n",
              "      <th>2020-08-10</th>\n",
              "      <td>24.0</td>\n",
              "    </tr>\n",
              "    <tr>\n",
              "      <th>2020-07-10</th>\n",
              "      <td>31.0</td>\n",
              "    </tr>\n",
              "    <tr>\n",
              "      <th>2020-06-10</th>\n",
              "      <td>21.0</td>\n",
              "    </tr>\n",
              "  </tbody>\n",
              "</table>\n",
              "</div>\n",
              "      <button class=\"colab-df-convert\" onclick=\"convertToInteractive('df-f37f9d21-1665-44aa-bbfb-054bcafdd0dd')\"\n",
              "              title=\"Convert this dataframe to an interactive table.\"\n",
              "              style=\"display:none;\">\n",
              "        \n",
              "  <svg xmlns=\"http://www.w3.org/2000/svg\" height=\"24px\"viewBox=\"0 0 24 24\"\n",
              "       width=\"24px\">\n",
              "    <path d=\"M0 0h24v24H0V0z\" fill=\"none\"/>\n",
              "    <path d=\"M18.56 5.44l.94 2.06.94-2.06 2.06-.94-2.06-.94-.94-2.06-.94 2.06-2.06.94zm-11 1L8.5 8.5l.94-2.06 2.06-.94-2.06-.94L8.5 2.5l-.94 2.06-2.06.94zm10 10l.94 2.06.94-2.06 2.06-.94-2.06-.94-.94-2.06-.94 2.06-2.06.94z\"/><path d=\"M17.41 7.96l-1.37-1.37c-.4-.4-.92-.59-1.43-.59-.52 0-1.04.2-1.43.59L10.3 9.45l-7.72 7.72c-.78.78-.78 2.05 0 2.83L4 21.41c.39.39.9.59 1.41.59.51 0 1.02-.2 1.41-.59l7.78-7.78 2.81-2.81c.8-.78.8-2.07 0-2.86zM5.41 20L4 18.59l7.72-7.72 1.47 1.35L5.41 20z\"/>\n",
              "  </svg>\n",
              "      </button>\n",
              "      \n",
              "  <style>\n",
              "    .colab-df-container {\n",
              "      display:flex;\n",
              "      flex-wrap:wrap;\n",
              "      gap: 12px;\n",
              "    }\n",
              "\n",
              "    .colab-df-convert {\n",
              "      background-color: #E8F0FE;\n",
              "      border: none;\n",
              "      border-radius: 50%;\n",
              "      cursor: pointer;\n",
              "      display: none;\n",
              "      fill: #1967D2;\n",
              "      height: 32px;\n",
              "      padding: 0 0 0 0;\n",
              "      width: 32px;\n",
              "    }\n",
              "\n",
              "    .colab-df-convert:hover {\n",
              "      background-color: #E2EBFA;\n",
              "      box-shadow: 0px 1px 2px rgba(60, 64, 67, 0.3), 0px 1px 3px 1px rgba(60, 64, 67, 0.15);\n",
              "      fill: #174EA6;\n",
              "    }\n",
              "\n",
              "    [theme=dark] .colab-df-convert {\n",
              "      background-color: #3B4455;\n",
              "      fill: #D2E3FC;\n",
              "    }\n",
              "\n",
              "    [theme=dark] .colab-df-convert:hover {\n",
              "      background-color: #434B5C;\n",
              "      box-shadow: 0px 1px 3px 1px rgba(0, 0, 0, 0.15);\n",
              "      filter: drop-shadow(0px 1px 2px rgba(0, 0, 0, 0.3));\n",
              "      fill: #FFFFFF;\n",
              "    }\n",
              "  </style>\n",
              "\n",
              "      <script>\n",
              "        const buttonEl =\n",
              "          document.querySelector('#df-f37f9d21-1665-44aa-bbfb-054bcafdd0dd button.colab-df-convert');\n",
              "        buttonEl.style.display =\n",
              "          google.colab.kernel.accessAllowed ? 'block' : 'none';\n",
              "\n",
              "        async function convertToInteractive(key) {\n",
              "          const element = document.querySelector('#df-f37f9d21-1665-44aa-bbfb-054bcafdd0dd');\n",
              "          const dataTable =\n",
              "            await google.colab.kernel.invokeFunction('convertToInteractive',\n",
              "                                                     [key], {});\n",
              "          if (!dataTable) return;\n",
              "\n",
              "          const docLinkHtml = 'Like what you see? Visit the ' +\n",
              "            '<a target=\"_blank\" href=https://colab.research.google.com/notebooks/data_table.ipynb>data table notebook</a>'\n",
              "            + ' to learn more about interactive tables.';\n",
              "          element.innerHTML = '';\n",
              "          dataTable['output_type'] = 'display_data';\n",
              "          await google.colab.output.renderOutput(dataTable, element);\n",
              "          const docLink = document.createElement('div');\n",
              "          docLink.innerHTML = docLinkHtml;\n",
              "          element.appendChild(docLink);\n",
              "        }\n",
              "      </script>\n",
              "    </div>\n",
              "  </div>\n",
              "  "
            ]
          },
          "metadata": {},
          "execution_count": 10
        }
      ]
    },
    {
      "cell_type": "code",
      "source": [
        "df['N'].plot()"
      ],
      "metadata": {
        "colab": {
          "base_uri": "https://localhost:8080/",
          "height": 287
        },
        "id": "b2vxOJzkvN09",
        "outputId": "36a9315b-d56b-4561-ff04-7271853ed52a"
      },
      "execution_count": 11,
      "outputs": [
        {
          "output_type": "execute_result",
          "data": {
            "text/plain": [
              "<matplotlib.axes._subplots.AxesSubplot at 0x7faf9035ffd0>"
            ]
          },
          "metadata": {},
          "execution_count": 11
        },
        {
          "output_type": "display_data",
          "data": {
            "text/plain": [
              "<Figure size 432x288 with 1 Axes>"
            ],
            "image/png": "[encoded data removed]"
          },
          "metadata": {
            "needs_background": "light"
          }
        }
      ]
    },
    {
      "cell_type": "code",
      "source": [
        "# Validation set 추가\n",
        "split_date1 = pd.Timestamp('2012-12-10')\n",
        "split_date2 = pd.Timestamp('2016-05-10')\n",
        "\n",
        "train_valid = df.loc[split_date2:, ] # 2016-05-10 이전\n",
        "test = df.loc[:split_date2, ['N']] # 2016-05-10 이후\n",
        "\n",
        "train = train_valid.loc[split_date1:, ['N']] # 2012-12-10 이전\n",
        "valid = train_valid.loc[:split_date1, ['N']] # 2012-12-10 이후\n",
        "\n",
        "print(train.shape, valid.shape, test.shape)\n",
        "\n",
        "ax = train.plot()\n",
        "valid.plot(ax=ax)\n",
        "test.plot(ax=ax)\n",
        "plt.legend(['train', 'valid', 'test'])"
      ],
      "metadata": {
        "colab": {
          "base_uri": "https://localhost:8080/",
          "height": 306
        },
        "id": "VjH-iuBH0bfT",
        "outputId": "900a4079-b8ea-45c0-843e-24ec75cb79f0"
      },
      "execution_count": 12,
      "outputs": [
        {
          "output_type": "stream",
          "name": "stdout",
          "text": [
            "(152, 1) (42, 1) (54, 1)\n"
          ]
        },
        {
          "output_type": "execute_result",
          "data": {
            "text/plain": [
              "<matplotlib.legend.Legend at 0x7faf90296190>"
            ]
          },
          "metadata": {},
          "execution_count": 12
        },
        {
          "output_type": "display_data",
          "data": {
            "text/plain": [
              "<Figure size 432x288 with 1 Axes>"
            ],
            "image/png": "[encoded data removed]"
          },
          "metadata": {
            "needs_background": "light"
          }
        }
      ]
    },
    {
      "cell_type": "code",
      "source": [
        "#학습되지 않아서 정규화 진행 X\n",
        "from sklearn.preprocessing import MinMaxScaler\n",
        "\n",
        "sc = MinMaxScaler()\n",
        "\n",
        "train_sc = sc.fit_transform(train)\n",
        "valid_sc = sc.transform(valid) # 추가\n",
        "test_sc = sc.transform(test)"
      ],
      "metadata": {
        "id": "qXVz-GsMvNv_"
      },
      "execution_count": 13,
      "outputs": []
    },
    {
      "cell_type": "code",
      "source": [
        "# pd.DataFrame(train, ...) ---> pd.DataFrame(train_sc)\n",
        "# 정규화 데이터 사용할 것\n",
        "train_sc_df = pd.DataFrame(train_sc, columns=['N'], index=train.index)\n",
        "valid_sc_df = pd.DataFrame(valid_sc, columns=['N'], index=valid.index)\n",
        "test_sc_df = pd.DataFrame(test_sc, columns=['N'], index=test.index)"
      ],
      "metadata": {
        "id": "87txmpXSvNti"
      },
      "execution_count": 14,
      "outputs": []
    },
    {
      "cell_type": "code",
      "source": [
        "for s in range(1, 13):\n",
        "    train_sc_df['shift_{}'.format(s)] = train_sc_df['N'].shift(s)\n",
        "    valid_sc_df['shift_{}'.format(s)] = valid_sc_df['N'].shift(s) # 추가\n",
        "    test_sc_df['shift_{}'.format(s)] = test_sc_df['N'].shift(s)\n",
        "\n",
        "train_sc_df.head(13)"
      ],
      "metadata": {
        "colab": {
          "base_uri": "https://localhost:8080/",
          "height": 488
        },
        "id": "i_X95PR0vNq-",
        "outputId": "511859e1-2fc9-4cb8-93ab-2bf54df586d1"
      },
      "execution_count": 15,
      "outputs": [
        {
          "output_type": "execute_result",
          "data": {
            "text/plain": [
              "                   N   shift_1   shift_2   shift_3   shift_4   shift_5  \\\n",
              "date                                                                     \n",
              "2012-12-10  0.400000       NaN       NaN       NaN       NaN       NaN   \n",
              "2012-11-10  0.200000  0.400000       NaN       NaN       NaN       NaN   \n",
              "2012-10-10  0.133333  0.200000  0.400000       NaN       NaN       NaN   \n",
              "2012-09-10  0.600000  0.133333  0.200000  0.400000       NaN       NaN   \n",
              "2012-08-10  0.133333  0.600000  0.133333  0.200000  0.400000       NaN   \n",
              "2012-07-10  0.600000  0.133333  0.600000  0.133333  0.200000  0.400000   \n",
              "2012-06-10  0.600000  0.600000  0.133333  0.600000  0.133333  0.200000   \n",
              "2012-05-10  0.600000  0.600000  0.600000  0.133333  0.600000  0.133333   \n",
              "2012-04-10  0.800000  0.600000  0.600000  0.600000  0.133333  0.600000   \n",
              "2012-03-10  0.600000  0.800000  0.600000  0.600000  0.600000  0.133333   \n",
              "2012-02-10  0.600000  0.600000  0.800000  0.600000  0.600000  0.600000   \n",
              "2012-01-10  0.800000  0.600000  0.600000  0.800000  0.600000  0.600000   \n",
              "2011-12-10  0.733333  0.800000  0.600000  0.600000  0.800000  0.600000   \n",
              "\n",
              "             shift_6   shift_7   shift_8   shift_9  shift_10  shift_11  \\\n",
              "date                                                                     \n",
              "2012-12-10       NaN       NaN       NaN       NaN       NaN       NaN   \n",
              "2012-11-10       NaN       NaN       NaN       NaN       NaN       NaN   \n",
              "2012-10-10       NaN       NaN       NaN       NaN       NaN       NaN   \n",
              "2012-09-10       NaN       NaN       NaN       NaN       NaN       NaN   \n",
              "2012-08-10       NaN       NaN       NaN       NaN       NaN       NaN   \n",
              "2012-07-10       NaN       NaN       NaN       NaN       NaN       NaN   \n",
              "2012-06-10  0.400000       NaN       NaN       NaN       NaN       NaN   \n",
              "2012-05-10  0.200000  0.400000       NaN       NaN       NaN       NaN   \n",
              "2012-04-10  0.133333  0.200000  0.400000       NaN       NaN       NaN   \n",
              "2012-03-10  0.600000  0.133333  0.200000  0.400000       NaN       NaN   \n",
              "2012-02-10  0.133333  0.600000  0.133333  0.200000  0.400000       NaN   \n",
              "2012-01-10  0.600000  0.133333  0.600000  0.133333  0.200000       0.4   \n",
              "2011-12-10  0.600000  0.600000  0.133333  0.600000  0.133333       0.2   \n",
              "\n",
              "            shift_12  \n",
              "date                  \n",
              "2012-12-10       NaN  \n",
              "2012-11-10       NaN  \n",
              "2012-10-10       NaN  \n",
              "2012-09-10       NaN  \n",
              "2012-08-10       NaN  \n",
              "2012-07-10       NaN  \n",
              "2012-06-10       NaN  \n",
              "2012-05-10       NaN  \n",
              "2012-04-10       NaN  \n",
              "2012-03-10       NaN  \n",
              "2012-02-10       NaN  \n",
              "2012-01-10       NaN  \n",
              "2011-12-10       0.4  "
            ],
            "text/html": [
              "\n",
              "  <div id=\"df-0ea36403-e980-48c7-8eea-9844c0320e07\">\n",
              "    <div class=\"colab-df-container\">\n",
              "      <div>\n",
              "<style scoped>\n",
              "    .dataframe tbody tr th:only-of-type {\n",
              "        vertical-align: middle;\n",
              "    }\n",
              "\n",
              "    .dataframe tbody tr th {\n",
              "        vertical-align: top;\n",
              "    }\n",
              "\n",
              "    .dataframe thead th {\n",
              "        text-align: right;\n",
              "    }\n",
              "</style>\n",
              "<table border=\"1\" class=\"dataframe\">\n",
              "  <thead>\n",
              "    <tr style=\"text-align: right;\">\n",
              "      <th></th>\n",
              "      <th>N</th>\n",
              "      <th>shift_1</th>\n",
              "      <th>shift_2</th>\n",
              "      <th>shift_3</th>\n",
              "      <th>shift_4</th>\n",
              "      <th>shift_5</th>\n",
              "      <th>shift_6</th>\n",
              "      <th>shift_7</th>\n",
              "      <th>shift_8</th>\n",
              "      <th>shift_9</th>\n",
              "      <th>shift_10</th>\n",
              "      <th>shift_11</th>\n",
              "      <th>shift_12</th>\n",
              "    </tr>\n",
              "    <tr>\n",
              "      <th>date</th>\n",
              "      <th></th>\n",
              "      <th></th>\n",
              "      <th></th>\n",
              "      <th></th>\n",
              "      <th></th>\n",
              "      <th></th>\n",
              "      <th></th>\n",
              "      <th></th>\n",
              "      <th></th>\n",
              "      <th></th>\n",
              "      <th></th>\n",
              "      <th></th>\n",
              "      <th></th>\n",
              "    </tr>\n",
              "  </thead>\n",
              "  <tbody>\n",
              "    <tr>\n",
              "      <th>2012-12-10</th>\n",
              "      <td>0.400000</td>\n",
              "      <td>NaN</td>\n",
              "      <td>NaN</td>\n",
              "      <td>NaN</td>\n",
              "      <td>NaN</td>\n",
              "      <td>NaN</td>\n",
              "      <td>NaN</td>\n",
              "      <td>NaN</td>\n",
              "      <td>NaN</td>\n",
              "      <td>NaN</td>\n",
              "      <td>NaN</td>\n",
              "      <td>NaN</td>\n",
              "      <td>NaN</td>\n",
              "    </tr>\n",
              "    <tr>\n",
              "      <th>2012-11-10</th>\n",
              "      <td>0.200000</td>\n",
              "      <td>0.400000</td>\n",
              "      <td>NaN</td>\n",
              "      <td>NaN</td>\n",
              "      <td>NaN</td>\n",
              "      <td>NaN</td>\n",
              "      <td>NaN</td>\n",
              "      <td>NaN</td>\n",
              "      <td>NaN</td>\n",
              "      <td>NaN</td>\n",
              "      <td>NaN</td>\n",
              "      <td>NaN</td>\n",
              "      <td>NaN</td>\n",
              "    </tr>\n",
              "    <tr>\n",
              "      <th>2012-10-10</th>\n",
              "      <td>0.133333</td>\n",
              "      <td>0.200000</td>\n",
              "      <td>0.400000</td>\n",
              "      <td>NaN</td>\n",
              "      <td>NaN</td>\n",
              "      <td>NaN</td>\n",
              "      <td>NaN</td>\n",
              "      <td>NaN</td>\n",
              "      <td>NaN</td>\n",
              "      <td>NaN</td>\n",
              "      <td>NaN</td>\n",
              "      <td>NaN</td>\n",
              "      <td>NaN</td>\n",
              "    </tr>\n",
              "    <tr>\n",
              "      <th>2012-09-10</th>\n",
              "      <td>0.600000</td>\n",
              "      <td>0.133333</td>\n",
              "      <td>0.200000</td>\n",
              "      <td>0.400000</td>\n",
              "      <td>NaN</td>\n",
              "      <td>NaN</td>\n",
              "      <td>NaN</td>\n",
              "      <td>NaN</td>\n",
              "      <td>NaN</td>\n",
              "      <td>NaN</td>\n",
              "      <td>NaN</td>\n",
              "      <td>NaN</td>\n",
              "      <td>NaN</td>\n",
              "    </tr>\n",
              "    <tr>\n",
              "      <th>2012-08-10</th>\n",
              "      <td>0.133333</td>\n",
              "      <td>0.600000</td>\n",
              "      <td>0.133333</td>\n",
              "      <td>0.200000</td>\n",
              "      <td>0.400000</td>\n",
              "      <td>NaN</td>\n",
              "      <td>NaN</td>\n",
              "      <td>NaN</td>\n",
              "      <td>NaN</td>\n",
              "      <td>NaN</td>\n",
              "      <td>NaN</td>\n",
              "      <td>NaN</td>\n",
              "      <td>NaN</td>\n",
              "    </tr>\n",
              "    <tr>\n",
              "      <th>2012-07-10</th>\n",
              "      <td>0.600000</td>\n",
              "      <td>0.133333</td>\n",
              "      <td>0.600000</td>\n",
              "      <td>0.133333</td>\n",
              "      <td>0.200000</td>\n",
              "      <td>0.400000</td>\n",
              "      <td>NaN</td>\n",
              "      <td>NaN</td>\n",
              "      <td>NaN</td>\n",
              "      <td>NaN</td>\n",
              "      <td>NaN</td>\n",
              "      <td>NaN</td>\n",
              "      <td>NaN</td>\n",
              "    </tr>\n",
              "    <tr>\n",
              "      <th>2012-06-10</th>\n",
              "      <td>0.600000</td>\n",
              "      <td>0.600000</td>\n",
              "      <td>0.133333</td>\n",
              "      <td>0.600000</td>\n",
              "      <td>0.133333</td>\n",
              "      <td>0.200000</td>\n",
              "      <td>0.400000</td>\n",
              "      <td>NaN</td>\n",
              "      <td>NaN</td>\n",
              "      <td>NaN</td>\n",
              "      <td>NaN</td>\n",
              "      <td>NaN</td>\n",
              "      <td>NaN</td>\n",
              "    </tr>\n",
              "    <tr>\n",
              "      <th>2012-05-10</th>\n",
              "      <td>0.600000</td>\n",
              "      <td>0.600000</td>\n",
              "      <td>0.600000</td>\n",
              "      <td>0.133333</td>\n",
              "      <td>0.600000</td>\n",
              "      <td>0.133333</td>\n",
              "      <td>0.200000</td>\n",
              "      <td>0.400000</td>\n",
              "      <td>NaN</td>\n",
              "      <td>NaN</td>\n",
              "      <td>NaN</td>\n",
              "      <td>NaN</td>\n",
              "      <td>NaN</td>\n",
              "    </tr>\n",
              "    <tr>\n",
              "      <th>2012-04-10</th>\n",
              "      <td>0.800000</td>\n",
              "      <td>0.600000</td>\n",
              "      <td>0.600000</td>\n",
              "      <td>0.600000</td>\n",
              "      <td>0.133333</td>\n",
              "      <td>0.600000</td>\n",
              "      <td>0.133333</td>\n",
              "      <td>0.200000</td>\n",
              "      <td>0.400000</td>\n",
              "      <td>NaN</td>\n",
              "      <td>NaN</td>\n",
              "      <td>NaN</td>\n",
              "      <td>NaN</td>\n",
              "    </tr>\n",
              "    <tr>\n",
              "      <th>2012-03-10</th>\n",
              "      <td>0.600000</td>\n",
              "      <td>0.800000</td>\n",
              "      <td>0.600000</td>\n",
              "      <td>0.600000</td>\n",
              "      <td>0.600000</td>\n",
              "      <td>0.133333</td>\n",
              "      <td>0.600000</td>\n",
              "      <td>0.133333</td>\n",
              "      <td>0.200000</td>\n",
              "      <td>0.400000</td>\n",
              "      <td>NaN</td>\n",
              "      <td>NaN</td>\n",
              "      <td>NaN</td>\n",
              "    </tr>\n",
              "    <tr>\n",
              "      <th>2012-02-10</th>\n",
              "      <td>0.600000</td>\n",
              "      <td>0.600000</td>\n",
              "      <td>0.800000</td>\n",
              "      <td>0.600000</td>\n",
              "      <td>0.600000</td>\n",
              "      <td>0.600000</td>\n",
              "      <td>0.133333</td>\n",
              "      <td>0.600000</td>\n",
              "      <td>0.133333</td>\n",
              "      <td>0.200000</td>\n",
              "      <td>0.400000</td>\n",
              "      <td>NaN</td>\n",
              "      <td>NaN</td>\n",
              "    </tr>\n",
              "    <tr>\n",
              "      <th>2012-01-10</th>\n",
              "      <td>0.800000</td>\n",
              "      <td>0.600000</td>\n",
              "      <td>0.600000</td>\n",
              "      <td>0.800000</td>\n",
              "      <td>0.600000</td>\n",
              "      <td>0.600000</td>\n",
              "      <td>0.600000</td>\n",
              "      <td>0.133333</td>\n",
              "      <td>0.600000</td>\n",
              "      <td>0.133333</td>\n",
              "      <td>0.200000</td>\n",
              "      <td>0.4</td>\n",
              "      <td>NaN</td>\n",
              "    </tr>\n",
              "    <tr>\n",
              "      <th>2011-12-10</th>\n",
              "      <td>0.733333</td>\n",
              "      <td>0.800000</td>\n",
              "      <td>0.600000</td>\n",
              "      <td>0.600000</td>\n",
              "      <td>0.800000</td>\n",
              "      <td>0.600000</td>\n",
              "      <td>0.600000</td>\n",
              "      <td>0.600000</td>\n",
              "      <td>0.133333</td>\n",
              "      <td>0.600000</td>\n",
              "      <td>0.133333</td>\n",
              "      <td>0.2</td>\n",
              "      <td>0.4</td>\n",
              "    </tr>\n",
              "  </tbody>\n",
              "</table>\n",
              "</div>\n",
              "      <button class=\"colab-df-convert\" onclick=\"convertToInteractive('df-0ea36403-e980-48c7-8eea-9844c0320e07')\"\n",
              "              title=\"Convert this dataframe to an interactive table.\"\n",
              "              style=\"display:none;\">\n",
              "        \n",
              "  <svg xmlns=\"http://www.w3.org/2000/svg\" height=\"24px\"viewBox=\"0 0 24 24\"\n",
              "       width=\"24px\">\n",
              "    <path d=\"M0 0h24v24H0V0z\" fill=\"none\"/>\n",
              "    <path d=\"M18.56 5.44l.94 2.06.94-2.06 2.06-.94-2.06-.94-.94-2.06-.94 2.06-2.06.94zm-11 1L8.5 8.5l.94-2.06 2.06-.94-2.06-.94L8.5 2.5l-.94 2.06-2.06.94zm10 10l.94 2.06.94-2.06 2.06-.94-2.06-.94-.94-2.06-.94 2.06-2.06.94z\"/><path d=\"M17.41 7.96l-1.37-1.37c-.4-.4-.92-.59-1.43-.59-.52 0-1.04.2-1.43.59L10.3 9.45l-7.72 7.72c-.78.78-.78 2.05 0 2.83L4 21.41c.39.39.9.59 1.41.59.51 0 1.02-.2 1.41-.59l7.78-7.78 2.81-2.81c.8-.78.8-2.07 0-2.86zM5.41 20L4 18.59l7.72-7.72 1.47 1.35L5.41 20z\"/>\n",
              "  </svg>\n",
              "      </button>\n",
              "      \n",
              "  <style>\n",
              "    .colab-df-container {\n",
              "      display:flex;\n",
              "      flex-wrap:wrap;\n",
              "      gap: 12px;\n",
              "    }\n",
              "\n",
              "    .colab-df-convert {\n",
              "      background-color: #E8F0FE;\n",
              "      border: none;\n",
              "      border-radius: 50%;\n",
              "      cursor: pointer;\n",
              "      display: none;\n",
              "      fill: #1967D2;\n",
              "      height: 32px;\n",
              "      padding: 0 0 0 0;\n",
              "      width: 32px;\n",
              "    }\n",
              "\n",
              "    .colab-df-convert:hover {\n",
              "      background-color: #E2EBFA;\n",
              "      box-shadow: 0px 1px 2px rgba(60, 64, 67, 0.3), 0px 1px 3px 1px rgba(60, 64, 67, 0.15);\n",
              "      fill: #174EA6;\n",
              "    }\n",
              "\n",
              "    [theme=dark] .colab-df-convert {\n",
              "      background-color: #3B4455;\n",
              "      fill: #D2E3FC;\n",
              "    }\n",
              "\n",
              "    [theme=dark] .colab-df-convert:hover {\n",
              "      background-color: #434B5C;\n",
              "      box-shadow: 0px 1px 3px 1px rgba(0, 0, 0, 0.15);\n",
              "      filter: drop-shadow(0px 1px 2px rgba(0, 0, 0, 0.3));\n",
              "      fill: #FFFFFF;\n",
              "    }\n",
              "  </style>\n",
              "\n",
              "      <script>\n",
              "        const buttonEl =\n",
              "          document.querySelector('#df-0ea36403-e980-48c7-8eea-9844c0320e07 button.colab-df-convert');\n",
              "        buttonEl.style.display =\n",
              "          google.colab.kernel.accessAllowed ? 'block' : 'none';\n",
              "\n",
              "        async function convertToInteractive(key) {\n",
              "          const element = document.querySelector('#df-0ea36403-e980-48c7-8eea-9844c0320e07');\n",
              "          const dataTable =\n",
              "            await google.colab.kernel.invokeFunction('convertToInteractive',\n",
              "                                                     [key], {});\n",
              "          if (!dataTable) return;\n",
              "\n",
              "          const docLinkHtml = 'Like what you see? Visit the ' +\n",
              "            '<a target=\"_blank\" href=https://colab.research.google.com/notebooks/data_table.ipynb>data table notebook</a>'\n",
              "            + ' to learn more about interactive tables.';\n",
              "          element.innerHTML = '';\n",
              "          dataTable['output_type'] = 'display_data';\n",
              "          await google.colab.output.renderOutput(dataTable, element);\n",
              "          const docLink = document.createElement('div');\n",
              "          docLink.innerHTML = docLinkHtml;\n",
              "          element.appendChild(docLink);\n",
              "        }\n",
              "      </script>\n",
              "    </div>\n",
              "  </div>\n",
              "  "
            ]
          },
          "metadata": {},
          "execution_count": 15
        }
      ]
    },
    {
      "cell_type": "code",
      "source": [
        "X_train = train_sc_df.dropna().drop('N', axis=1)\n",
        "y_train = train_sc_df.dropna()[['N']]\n",
        "\n",
        "X_valid = valid_sc_df.dropna().drop('N', axis=1)\n",
        "y_valid = valid_sc_df.dropna()[['N']]\n",
        "\n",
        "X_test = test_sc_df.dropna().drop('N', axis=1)\n",
        "y_test = test_sc_df.dropna()[['N']]\n",
        "\n",
        "X_train.head()"
      ],
      "metadata": {
        "colab": {
          "base_uri": "https://localhost:8080/",
          "height": 238
        },
        "id": "jFPsdfsY2q63",
        "outputId": "b0d40507-d939-420b-adeb-2d2f9c75bfbb"
      },
      "execution_count": 16,
      "outputs": [
        {
          "output_type": "execute_result",
          "data": {
            "text/plain": [
              "             shift_1   shift_2   shift_3   shift_4  shift_5  shift_6  shift_7  \\\n",
              "date                                                                            \n",
              "2011-12-10  0.800000  0.600000  0.600000  0.800000      0.6      0.6      0.6   \n",
              "2011-11-10  0.733333  0.800000  0.600000  0.600000      0.8      0.6      0.6   \n",
              "2011-10-10  0.333333  0.733333  0.800000  0.600000      0.6      0.8      0.6   \n",
              "2011-09-10  0.133333  0.333333  0.733333  0.800000      0.6      0.6      0.8   \n",
              "2011-08-10  0.266667  0.133333  0.333333  0.733333      0.8      0.6      0.6   \n",
              "\n",
              "             shift_8   shift_9  shift_10  shift_11  shift_12  \n",
              "date                                                          \n",
              "2011-12-10  0.133333  0.600000  0.133333  0.200000  0.400000  \n",
              "2011-11-10  0.600000  0.133333  0.600000  0.133333  0.200000  \n",
              "2011-10-10  0.600000  0.600000  0.133333  0.600000  0.133333  \n",
              "2011-09-10  0.600000  0.600000  0.600000  0.133333  0.600000  \n",
              "2011-08-10  0.800000  0.600000  0.600000  0.600000  0.133333  "
            ],
            "text/html": [
              "\n",
              "  <div id=\"df-df0c30bd-ccab-405a-b88e-e9d05fc6b91b\">\n",
              "    <div class=\"colab-df-container\">\n",
              "      <div>\n",
              "<style scoped>\n",
              "    .dataframe tbody tr th:only-of-type {\n",
              "        vertical-align: middle;\n",
              "    }\n",
              "\n",
              "    .dataframe tbody tr th {\n",
              "        vertical-align: top;\n",
              "    }\n",
              "\n",
              "    .dataframe thead th {\n",
              "        text-align: right;\n",
              "    }\n",
              "</style>\n",
              "<table border=\"1\" class=\"dataframe\">\n",
              "  <thead>\n",
              "    <tr style=\"text-align: right;\">\n",
              "      <th></th>\n",
              "      <th>shift_1</th>\n",
              "      <th>shift_2</th>\n",
              "      <th>shift_3</th>\n",
              "      <th>shift_4</th>\n",
              "      <th>shift_5</th>\n",
              "      <th>shift_6</th>\n",
              "      <th>shift_7</th>\n",
              "      <th>shift_8</th>\n",
              "      <th>shift_9</th>\n",
              "      <th>shift_10</th>\n",
              "      <th>shift_11</th>\n",
              "      <th>shift_12</th>\n",
              "    </tr>\n",
              "    <tr>\n",
              "      <th>date</th>\n",
              "      <th></th>\n",
              "      <th></th>\n",
              "      <th></th>\n",
              "      <th></th>\n",
              "      <th></th>\n",
              "      <th></th>\n",
              "      <th></th>\n",
              "      <th></th>\n",
              "      <th></th>\n",
              "      <th></th>\n",
              "      <th></th>\n",
              "      <th></th>\n",
              "    </tr>\n",
              "  </thead>\n",
              "  <tbody>\n",
              "    <tr>\n",
              "      <th>2011-12-10</th>\n",
              "      <td>0.800000</td>\n",
              "      <td>0.600000</td>\n",
              "      <td>0.600000</td>\n",
              "      <td>0.800000</td>\n",
              "      <td>0.6</td>\n",
              "      <td>0.6</td>\n",
              "      <td>0.6</td>\n",
              "      <td>0.133333</td>\n",
              "      <td>0.600000</td>\n",
              "      <td>0.133333</td>\n",
              "      <td>0.200000</td>\n",
              "      <td>0.400000</td>\n",
              "    </tr>\n",
              "    <tr>\n",
              "      <th>2011-11-10</th>\n",
              "      <td>0.733333</td>\n",
              "      <td>0.800000</td>\n",
              "      <td>0.600000</td>\n",
              "      <td>0.600000</td>\n",
              "      <td>0.8</td>\n",
              "      <td>0.6</td>\n",
              "      <td>0.6</td>\n",
              "      <td>0.600000</td>\n",
              "      <td>0.133333</td>\n",
              "      <td>0.600000</td>\n",
              "      <td>0.133333</td>\n",
              "      <td>0.200000</td>\n",
              "    </tr>\n",
              "    <tr>\n",
              "      <th>2011-10-10</th>\n",
              "      <td>0.333333</td>\n",
              "      <td>0.733333</td>\n",
              "      <td>0.800000</td>\n",
              "      <td>0.600000</td>\n",
              "      <td>0.6</td>\n",
              "      <td>0.8</td>\n",
              "      <td>0.6</td>\n",
              "      <td>0.600000</td>\n",
              "      <td>0.600000</td>\n",
              "      <td>0.133333</td>\n",
              "      <td>0.600000</td>\n",
              "      <td>0.133333</td>\n",
              "    </tr>\n",
              "    <tr>\n",
              "      <th>2011-09-10</th>\n",
              "      <td>0.133333</td>\n",
              "      <td>0.333333</td>\n",
              "      <td>0.733333</td>\n",
              "      <td>0.800000</td>\n",
              "      <td>0.6</td>\n",
              "      <td>0.6</td>\n",
              "      <td>0.8</td>\n",
              "      <td>0.600000</td>\n",
              "      <td>0.600000</td>\n",
              "      <td>0.600000</td>\n",
              "      <td>0.133333</td>\n",
              "      <td>0.600000</td>\n",
              "    </tr>\n",
              "    <tr>\n",
              "      <th>2011-08-10</th>\n",
              "      <td>0.266667</td>\n",
              "      <td>0.133333</td>\n",
              "      <td>0.333333</td>\n",
              "      <td>0.733333</td>\n",
              "      <td>0.8</td>\n",
              "      <td>0.6</td>\n",
              "      <td>0.6</td>\n",
              "      <td>0.800000</td>\n",
              "      <td>0.600000</td>\n",
              "      <td>0.600000</td>\n",
              "      <td>0.600000</td>\n",
              "      <td>0.133333</td>\n",
              "    </tr>\n",
              "  </tbody>\n",
              "</table>\n",
              "</div>\n",
              "      <button class=\"colab-df-convert\" onclick=\"convertToInteractive('df-df0c30bd-ccab-405a-b88e-e9d05fc6b91b')\"\n",
              "              title=\"Convert this dataframe to an interactive table.\"\n",
              "              style=\"display:none;\">\n",
              "        \n",
              "  <svg xmlns=\"http://www.w3.org/2000/svg\" height=\"24px\"viewBox=\"0 0 24 24\"\n",
              "       width=\"24px\">\n",
              "    <path d=\"M0 0h24v24H0V0z\" fill=\"none\"/>\n",
              "    <path d=\"M18.56 5.44l.94 2.06.94-2.06 2.06-.94-2.06-.94-.94-2.06-.94 2.06-2.06.94zm-11 1L8.5 8.5l.94-2.06 2.06-.94-2.06-.94L8.5 2.5l-.94 2.06-2.06.94zm10 10l.94 2.06.94-2.06 2.06-.94-2.06-.94-.94-2.06-.94 2.06-2.06.94z\"/><path d=\"M17.41 7.96l-1.37-1.37c-.4-.4-.92-.59-1.43-.59-.52 0-1.04.2-1.43.59L10.3 9.45l-7.72 7.72c-.78.78-.78 2.05 0 2.83L4 21.41c.39.39.9.59 1.41.59.51 0 1.02-.2 1.41-.59l7.78-7.78 2.81-2.81c.8-.78.8-2.07 0-2.86zM5.41 20L4 18.59l7.72-7.72 1.47 1.35L5.41 20z\"/>\n",
              "  </svg>\n",
              "      </button>\n",
              "      \n",
              "  <style>\n",
              "    .colab-df-container {\n",
              "      display:flex;\n",
              "      flex-wrap:wrap;\n",
              "      gap: 12px;\n",
              "    }\n",
              "\n",
              "    .colab-df-convert {\n",
              "      background-color: #E8F0FE;\n",
              "      border: none;\n",
              "      border-radius: 50%;\n",
              "      cursor: pointer;\n",
              "      display: none;\n",
              "      fill: #1967D2;\n",
              "      height: 32px;\n",
              "      padding: 0 0 0 0;\n",
              "      width: 32px;\n",
              "    }\n",
              "\n",
              "    .colab-df-convert:hover {\n",
              "      background-color: #E2EBFA;\n",
              "      box-shadow: 0px 1px 2px rgba(60, 64, 67, 0.3), 0px 1px 3px 1px rgba(60, 64, 67, 0.15);\n",
              "      fill: #174EA6;\n",
              "    }\n",
              "\n",
              "    [theme=dark] .colab-df-convert {\n",
              "      background-color: #3B4455;\n",
              "      fill: #D2E3FC;\n",
              "    }\n",
              "\n",
              "    [theme=dark] .colab-df-convert:hover {\n",
              "      background-color: #434B5C;\n",
              "      box-shadow: 0px 1px 3px 1px rgba(0, 0, 0, 0.15);\n",
              "      filter: drop-shadow(0px 1px 2px rgba(0, 0, 0, 0.3));\n",
              "      fill: #FFFFFF;\n",
              "    }\n",
              "  </style>\n",
              "\n",
              "      <script>\n",
              "        const buttonEl =\n",
              "          document.querySelector('#df-df0c30bd-ccab-405a-b88e-e9d05fc6b91b button.colab-df-convert');\n",
              "        buttonEl.style.display =\n",
              "          google.colab.kernel.accessAllowed ? 'block' : 'none';\n",
              "\n",
              "        async function convertToInteractive(key) {\n",
              "          const element = document.querySelector('#df-df0c30bd-ccab-405a-b88e-e9d05fc6b91b');\n",
              "          const dataTable =\n",
              "            await google.colab.kernel.invokeFunction('convertToInteractive',\n",
              "                                                     [key], {});\n",
              "          if (!dataTable) return;\n",
              "\n",
              "          const docLinkHtml = 'Like what you see? Visit the ' +\n",
              "            '<a target=\"_blank\" href=https://colab.research.google.com/notebooks/data_table.ipynb>data table notebook</a>'\n",
              "            + ' to learn more about interactive tables.';\n",
              "          element.innerHTML = '';\n",
              "          dataTable['output_type'] = 'display_data';\n",
              "          await google.colab.output.renderOutput(dataTable, element);\n",
              "          const docLink = document.createElement('div');\n",
              "          docLink.innerHTML = docLinkHtml;\n",
              "          element.appendChild(docLink);\n",
              "        }\n",
              "      </script>\n",
              "    </div>\n",
              "  </div>\n",
              "  "
            ]
          },
          "metadata": {},
          "execution_count": 16
        }
      ]
    },
    {
      "cell_type": "code",
      "source": [
        "X_train = X_train.values\n",
        "X_valid = X_valid.values # 추가\n",
        "X_test= X_test.values\n",
        "\n",
        "y_train = y_train.values\n",
        "y_valid = y_valid.values # 추가\n",
        "y_test = y_test.values"
      ],
      "metadata": {
        "id": "tLPpZckd2q5Y"
      },
      "execution_count": 17,
      "outputs": []
    },
    {
      "cell_type": "code",
      "source": [
        "X_train_t = X_train.reshape(X_train.shape[0], 12, 1)\n",
        "X_valid_t = X_valid.reshape(X_valid.shape[0], 12, 1) # 추가\n",
        "X_test_t = X_test.reshape(X_test.shape[0], 12, 1)\n",
        "print(\"최종 DATA\")\n",
        "print(X_train_t.shape, X_valid_t.shape, X_test_t.shape)"
      ],
      "metadata": {
        "colab": {
          "base_uri": "https://localhost:8080/"
        },
        "id": "s0-_qjNO2q21",
        "outputId": "20e9b606-ef06-4ade-85cd-f7fb22c10b13"
      },
      "execution_count": 18,
      "outputs": [
        {
          "output_type": "stream",
          "name": "stdout",
          "text": [
            "최종 DATA\n",
            "(140, 12, 1) (30, 12, 1) (42, 12, 1)\n"
          ]
        }
      ]
    },
    {
      "cell_type": "code",
      "source": [
        "model = Sequential() # Sequeatial Model \n",
        "model.add(LSTM(50,activation='relu', input_shape=(12, 1))) # (timestep, feature) \n",
        "model.add(Dense(1)) # output = 1 \n",
        "model.compile(loss='mae', optimizer='adam',metrics=['mae']) \n",
        "model.summary()"
      ],
      "metadata": {
        "colab": {
          "base_uri": "https://localhost:8080/"
        },
        "id": "ruq7FP6z3rQv",
        "outputId": "1a0a416d-f153-4767-fb18-2febdfcc5bcf"
      },
      "execution_count": 19,
      "outputs": [
        {
          "output_type": "stream",
          "name": "stdout",
          "text": [
            "WARNING:tensorflow:Layer lstm will not use cuDNN kernels since it doesn't meet the criteria. It will use a generic GPU kernel as fallback when running on GPU.\n",
            "Model: \"sequential\"\n",
            "_________________________________________________________________\n",
            " Layer (type)                Output Shape              Param #   \n",
            "=================================================================\n",
            " lstm (LSTM)                 (None, 50)                10400     \n",
            "                                                                 \n",
            " dense (Dense)               (None, 1)                 51        \n",
            "                                                                 \n",
            "=================================================================\n",
            "Total params: 10,451\n",
            "Trainable params: 10,451\n",
            "Non-trainable params: 0\n",
            "_________________________________________________________________\n"
          ]
        }
      ]
    },
    {
      "cell_type": "code",
      "source": [
        "# 더 깊은 모델\n",
        "deep_model = Sequential() # Sequeatial Model \n",
        "deep_model.add(LSTM(50,activation='relu', input_shape=(12, 1))) # (timestep, feature) \n",
        "deep_model.add(Dense(32, activation='relu'))\n",
        "deep_model.add(Dropout(0.2))\n",
        "deep_model.add(Dense(8, activation='relu'))\n",
        "deep_model.add(Dropout(0.2))\n",
        "deep_model.add(Dense(1)) # output = 1 \n",
        "deep_model.compile(loss='mae', optimizer='adam',metrics=['mae']) \n",
        "deep_model.summary()"
      ],
      "metadata": {
        "colab": {
          "base_uri": "https://localhost:8080/"
        },
        "id": "vNF1x-s23rOW",
        "outputId": "85badf80-8617-4ef4-8ec5-3d47fc086146"
      },
      "execution_count": 20,
      "outputs": [
        {
          "output_type": "stream",
          "name": "stdout",
          "text": [
            "WARNING:tensorflow:Layer lstm_1 will not use cuDNN kernels since it doesn't meet the criteria. It will use a generic GPU kernel as fallback when running on GPU.\n",
            "Model: \"sequential_1\"\n",
            "_________________________________________________________________\n",
            " Layer (type)                Output Shape              Param #   \n",
            "=================================================================\n",
            " lstm_1 (LSTM)               (None, 50)                10400     \n",
            "                                                                 \n",
            " dense_1 (Dense)             (None, 32)                1632      \n",
            "                                                                 \n",
            " dropout (Dropout)           (None, 32)                0         \n",
            "                                                                 \n",
            " dense_2 (Dense)             (None, 8)                 264       \n",
            "                                                                 \n",
            " dropout_1 (Dropout)         (None, 8)                 0         \n",
            "                                                                 \n",
            " dense_3 (Dense)             (None, 1)                 9         \n",
            "                                                                 \n",
            "=================================================================\n",
            "Total params: 12,305\n",
            "Trainable params: 12,305\n",
            "Non-trainable params: 0\n",
            "_________________________________________________________________\n"
          ]
        }
      ]
    },
    {
      "cell_type": "code",
      "source": [
        "es = EarlyStopping(monitor='val_loss', mode='min',\n",
        "                   verbose=1, patience=5)\n",
        "mc = ModelCheckpoint('best_model.h5',\n",
        "                     monitor='val_loss',\n",
        "                     mode='min',\n",
        "                     save_best_only=True)\n",
        "model_history = model.fit(X_train_t, y_train,\n",
        "                          validation_data=(X_valid_t, y_valid),\n",
        "                          epochs=1000, batch_size=32,\n",
        "                          callbacks=[es, mc], verbose=1)"
      ],
      "metadata": {
        "colab": {
          "base_uri": "https://localhost:8080/"
        },
        "id": "LgrAPI5u3rMD",
        "outputId": "22ecfbdb-3105-4ad7-e336-709e8f9dc229"
      },
      "execution_count": 21,
      "outputs": [
        {
          "output_type": "stream",
          "name": "stdout",
          "text": [
            "Epoch 1/1000\n",
            "5/5 [==============================] - 4s 152ms/step - loss: 0.3204 - mae: 0.3204 - val_loss: 0.5412 - val_mae: 0.5412\n",
            "Epoch 2/1000\n",
            "5/5 [==============================] - 0s 48ms/step - loss: 0.2878 - mae: 0.2878 - val_loss: 0.4938 - val_mae: 0.4938\n",
            "Epoch 3/1000\n",
            "5/5 [==============================] - 0s 48ms/step - loss: 0.2555 - mae: 0.2555 - val_loss: 0.4436 - val_mae: 0.4436\n",
            "Epoch 4/1000\n",
            "5/5 [==============================] - 0s 46ms/step - loss: 0.2251 - mae: 0.2251 - val_loss: 0.3869 - val_mae: 0.3869\n",
            "Epoch 5/1000\n",
            "5/5 [==============================] - 0s 47ms/step - loss: 0.1930 - mae: 0.1930 - val_loss: 0.3191 - val_mae: 0.3191\n",
            "Epoch 6/1000\n",
            "5/5 [==============================] - 0s 46ms/step - loss: 0.1668 - mae: 0.1668 - val_loss: 0.2352 - val_mae: 0.2352\n",
            "Epoch 7/1000\n",
            "5/5 [==============================] - 0s 50ms/step - loss: 0.1593 - mae: 0.1593 - val_loss: 0.1823 - val_mae: 0.1823\n",
            "Epoch 8/1000\n",
            "5/5 [==============================] - 0s 40ms/step - loss: 0.1600 - mae: 0.1600 - val_loss: 0.1882 - val_mae: 0.1882\n",
            "Epoch 9/1000\n",
            "5/5 [==============================] - 0s 44ms/step - loss: 0.1570 - mae: 0.1570 - val_loss: 0.2045 - val_mae: 0.2045\n",
            "Epoch 10/1000\n",
            "5/5 [==============================] - 0s 40ms/step - loss: 0.1548 - mae: 0.1548 - val_loss: 0.2190 - val_mae: 0.2190\n",
            "Epoch 11/1000\n",
            "5/5 [==============================] - 0s 41ms/step - loss: 0.1542 - mae: 0.1542 - val_loss: 0.2256 - val_mae: 0.2256\n",
            "Epoch 12/1000\n",
            "5/5 [==============================] - 0s 43ms/step - loss: 0.1541 - mae: 0.1541 - val_loss: 0.2215 - val_mae: 0.2215\n",
            "Epoch 12: early stopping\n"
          ]
        }
      ]
    },
    {
      "cell_type": "code",
      "source": [
        "es = EarlyStopping(monitor='val_loss', mode='min',\n",
        "                   verbose=1, patience=5)\n",
        "mc = ModelCheckpoint('best_model.h5',\n",
        "                     monitor='val_loss',\n",
        "                     mode='min',\n",
        "                     save_best_only=True)\n",
        "deep_model_history = deep_model.fit(X_train_t, y_train,\n",
        "                                    validation_data=(X_valid_t, y_valid),\n",
        "                                    epochs=1000, batch_size=32,\n",
        "                                    callbacks=[es, mc], verbose=1)"
      ],
      "metadata": {
        "colab": {
          "base_uri": "https://localhost:8080/"
        },
        "id": "QWTBFdF-3rJr",
        "outputId": "faf2043c-6601-4304-9521-aa314d57bced"
      },
      "execution_count": 22,
      "outputs": [
        {
          "output_type": "stream",
          "name": "stdout",
          "text": [
            "Epoch 1/1000\n",
            "5/5 [==============================] - 2s 116ms/step - loss: 0.3010 - mae: 0.3010 - val_loss: 0.5208 - val_mae: 0.5208\n",
            "Epoch 2/1000\n",
            "5/5 [==============================] - 0s 49ms/step - loss: 0.2865 - mae: 0.2865 - val_loss: 0.5014 - val_mae: 0.5014\n",
            "Epoch 3/1000\n",
            "5/5 [==============================] - 0s 48ms/step - loss: 0.2711 - mae: 0.2711 - val_loss: 0.4774 - val_mae: 0.4774\n",
            "Epoch 4/1000\n",
            "5/5 [==============================] - 0s 50ms/step - loss: 0.2521 - mae: 0.2521 - val_loss: 0.4506 - val_mae: 0.4506\n",
            "Epoch 5/1000\n",
            "5/5 [==============================] - 0s 51ms/step - loss: 0.2346 - mae: 0.2346 - val_loss: 0.4175 - val_mae: 0.4175\n",
            "Epoch 6/1000\n",
            "5/5 [==============================] - 0s 52ms/step - loss: 0.2159 - mae: 0.2159 - val_loss: 0.3747 - val_mae: 0.3747\n",
            "Epoch 7/1000\n",
            "5/5 [==============================] - 0s 50ms/step - loss: 0.2024 - mae: 0.2024 - val_loss: 0.3204 - val_mae: 0.3204\n",
            "Epoch 8/1000\n",
            "5/5 [==============================] - 0s 52ms/step - loss: 0.1762 - mae: 0.1762 - val_loss: 0.2582 - val_mae: 0.2582\n",
            "Epoch 9/1000\n",
            "5/5 [==============================] - 0s 55ms/step - loss: 0.1788 - mae: 0.1788 - val_loss: 0.2076 - val_mae: 0.2076\n",
            "Epoch 10/1000\n",
            "5/5 [==============================] - 0s 41ms/step - loss: 0.1831 - mae: 0.1831 - val_loss: 0.2388 - val_mae: 0.2388\n",
            "Epoch 11/1000\n",
            "5/5 [==============================] - 0s 38ms/step - loss: 0.1846 - mae: 0.1846 - val_loss: 0.2612 - val_mae: 0.2612\n",
            "Epoch 12/1000\n",
            "5/5 [==============================] - 0s 42ms/step - loss: 0.1704 - mae: 0.1704 - val_loss: 0.2721 - val_mae: 0.2721\n",
            "Epoch 13/1000\n",
            "5/5 [==============================] - 0s 42ms/step - loss: 0.1698 - mae: 0.1698 - val_loss: 0.2603 - val_mae: 0.2603\n",
            "Epoch 14/1000\n",
            "5/5 [==============================] - 0s 38ms/step - loss: 0.1717 - mae: 0.1717 - val_loss: 0.2366 - val_mae: 0.2366\n",
            "Epoch 14: early stopping\n"
          ]
        }
      ]
    },
    {
      "cell_type": "code",
      "source": [
        "from sklearn.metrics import mean_absolute_error, mean_absolute_percentage_error\n",
        "pred = model.predict(X_test_t)\n",
        "mae_model = mean_absolute_error(y_true=y_test, y_pred=pred)\n",
        "mape_model = mean_absolute_percentage_error(y_true=y_test, y_pred=pred)\n",
        "print(mae_model, mape_model)"
      ],
      "metadata": {
        "colab": {
          "base_uri": "https://localhost:8080/"
        },
        "id": "wRlVhSZA2q0N",
        "outputId": "1018a353-62ca-46a5-d796-a9a15e30c4f0"
      },
      "execution_count": 23,
      "outputs": [
        {
          "output_type": "stream",
          "name": "stdout",
          "text": [
            "1.083410109319384 0.6776456560992818\n"
          ]
        }
      ]
    },
    {
      "cell_type": "code",
      "source": [
        "deep_pred = deep_model.predict(X_test_t)\n",
        "mae_deep_model = mean_absolute_error(y_true=y_test, y_pred=deep_pred)\n",
        "mape_deep_model = mean_absolute_percentage_error(y_true=y_test, y_pred=deep_pred)\n",
        "print(mae_deep_model, mape_deep_model)"
      ],
      "metadata": {
        "colab": {
          "base_uri": "https://localhost:8080/"
        },
        "id": "lYD0AIuX5QlC",
        "outputId": "7bb70c71-446a-4f53-a58f-c8175192128b"
      },
      "execution_count": 24,
      "outputs": [
        {
          "output_type": "stream",
          "name": "stdout",
          "text": [
            "1.1213614211669043 0.6566844795681464\n"
          ]
        }
      ]
    },
    {
      "cell_type": "code",
      "source": [
        "fig, ax = plt.subplots()\n",
        "ax.plot(model_history.history['loss'],\n",
        "        'bo-', label='Train loss of LSTM')\n",
        "ax.plot(model_history.history['val_loss'],\n",
        "        'b^-', label='Valid loss of LSTM')\n",
        "\n",
        "ax.plot(deep_model_history.history['loss'],\n",
        "        'ro-', label='Train loss of Deep LSTM')\n",
        "ax.plot(deep_model_history.history['val_loss'],\n",
        "        'r^-', label='Valid loss of Deep LSTM')\n",
        "\n",
        "ax.set_xlabel('epoch')\n",
        "ax.set_ylabel('loss')\n",
        "\n",
        "ax.legend(loc='upper right')\n",
        "plt.show()"
      ],
      "metadata": {
        "colab": {
          "base_uri": "https://localhost:8080/",
          "height": 279
        },
        "id": "Usugd4y35z5q",
        "outputId": "e5d2a608-6804-4fb5-cc3a-6368574cb42f"
      },
      "execution_count": 25,
      "outputs": [
        {
          "output_type": "display_data",
          "data": {
            "text/plain": [
              "<Figure size 432x288 with 1 Axes>"
            ],
            "image/png": "[encoded data removed]"
          },
          "metadata": {
            "needs_background": "light"
          }
        }
      ]
    },
    {
      "cell_type": "code",
      "source": [
        "fig, ax = plt.subplots()\n",
        "ax.plot(model_history.history['mae'],\n",
        "        'bo-', label='Train MAE of LSTM')\n",
        "ax.plot(model_history.history['val_mae'],\n",
        "        'b^-', label='Valid MAE of LSTM')\n",
        "\n",
        "ax.plot(deep_model_history.history['mae'],\n",
        "        'ro-', label='Train MAE of Deep LSTM')\n",
        "ax.plot(deep_model_history.history['val_mae'],\n",
        "        'r^-', label='Valid MAE of Deep LSTM')\n",
        "\n",
        "ax.set_xlabel('epoch')\n",
        "ax.set_ylabel('MAE')\n",
        "\n",
        "ax.legend(loc='upper right')\n",
        "plt.show()"
      ],
      "metadata": {
        "colab": {
          "base_uri": "https://localhost:8080/",
          "height": 279
        },
        "id": "-IX1T5T42qyQ",
        "outputId": "c4dfc0cd-d302-4b31-effa-2c9965dc39ba"
      },
      "execution_count": 26,
      "outputs": [
        {
          "output_type": "display_data",
          "data": {
            "text/plain": [
              "<Figure size 432x288 with 1 Axes>"
            ],
            "image/png": "[encoded data removed]"
          },
          "metadata": {
            "needs_background": "light"
          }
        }
      ]
    },
    {
      "cell_type": "code",
      "source": [
        "t_df = test_sc_df.dropna()\n",
        "y_test_df = pd.DataFrame(y_test, columns=['N'], index=t_df.index)\n",
        "y_pred_df = pd.DataFrame(pred, columns=['N'], index=t_df.index)\n",
        "y_deep_pred_df = pd.DataFrame(deep_pred, columns=['N'], index=t_df.index)\n",
        "\n",
        "ax1 = y_test_df.plot()\n",
        "y_pred_df.plot(ax=ax1)\n",
        "y_deep_pred_df.plot(ax=ax1)\n",
        "plt.legend(['Actual', 'Predicted_LSTM', 'Predicted_Deep_LSTM'])"
      ],
      "metadata": {
        "colab": {
          "base_uri": "https://localhost:8080/",
          "height": 295
        },
        "id": "p9CBZMeS6ucR",
        "outputId": "cdc5074a-cffc-4d4c-ebda-0071c330e668"
      },
      "execution_count": 27,
      "outputs": [
        {
          "output_type": "execute_result",
          "data": {
            "text/plain": [
              "<matplotlib.legend.Legend at 0x7faf801ac790>"
            ]
          },
          "metadata": {},
          "execution_count": 27
        },
        {
          "output_type": "display_data",
          "data": {
            "text/plain": [
              "<Figure size 432x288 with 1 Axes>"
            ],
            "image/png": "[encoded data removed]"
          },
          "metadata": {
            "needs_background": "light"
          }
        }
      ]
    },
    {
      "cell_type": "code",
      "source": [
        "#앞으로의 예측값을 시각화해야하는데 어렵슴다..\n",
        "nFuture = 12\n",
        "nStep = 12    #len(test)\n",
        "\n",
        "if len(df['N']) > 100:\n",
        "\n",
        "    lastData = np.copy(df[-246:])  # 원 데이터의 마지막 100개만 그려본다\n",
        "\n",
        "else:\n",
        "\n",
        "    lastData = np.copy(df)\n",
        "\n",
        "    \n",
        "\n",
        "dx = np.copy(lastData)\n",
        "\n",
        "estimate = [dx[-200]]\n",
        "\n",
        "for i in range(nFuture):\n",
        "\n",
        "    # 마지막 nStep 만큼 입력데이로 다음 값을 예측한다\n",
        "\n",
        "    px = dx[-nStep:].reshape(1, nStep, 1)\n",
        "\n",
        "    \n",
        "\n",
        "    # 다음 값을 예측한다.\n",
        "\n",
        "    yHat = deep_model.predict(px)[0][0]\n",
        "\n",
        "        \n",
        "\n",
        "    # 예측값을 저장해 둔다\n",
        "\n",
        "    estimate.append(yHat)\n",
        "\n",
        "    \n",
        "\n",
        "    # 이전 예측값을 포함하여 또 다음 값을 예측하기위해 예측한 값을 저장해 둔다\n",
        "\n",
        "    dx = np.insert(dx, len(dx), yHat)\n"
      ],
      "metadata": {
        "id": "KQFQsZbqHsDj"
      },
      "execution_count": 37,
      "outputs": []
    },
    {
      "cell_type": "code",
      "source": [
        "# Loss history를 그린다\n",
        "\n",
        "plt.figure(figsize=(8, 4))\n",
        "\n",
        "plt.plot(deep_model_history.history['loss'], color='red')\n",
        "\n",
        "plt.title(\"Loss History\")\n",
        "\n",
        "plt.xlabel(\"epoch\")\n",
        "\n",
        "plt.ylabel(\"loss\")\n",
        "\n",
        "plt.show()\n",
        "\n",
        "\n",
        "\n",
        "# 원 시계열과 예측된 시계열을 그린다\n",
        "\n",
        "ax1 = np.flip(np.arange(1, len(lastData) + 1))\n",
        "\n",
        "ax2 = np.arange(len(lastData), len(lastData) + len(estimate))\n",
        "\n",
        "plt.figure(figsize=(8, 4))\n",
        "\n",
        "plt.plot(ax1, lastData, 'b-o', color='blue', markersize=3, label='Time series', linewidth=1)\n",
        "\n",
        "plt.plot(ax2, estimate, 'b-o', color='red', markersize=3, label='Estimate')\n",
        "\n",
        "plt.axvline(x=ax1[1],  linestyle='dashed', linewidth=1)\n",
        "\n",
        "plt.legend()\n",
        "\n",
        "plt.show()"
      ],
      "metadata": {
        "colab": {
          "base_uri": "https://localhost:8080/",
          "height": 600
        },
        "id": "bItztq23Huzj",
        "outputId": "ae2c4687-504d-40ce-e6dc-9b35cb61f405"
      },
      "execution_count": 38,
      "outputs": [
        {
          "output_type": "display_data",
          "data": {
            "text/plain": [
              "<Figure size 576x288 with 1 Axes>"
            ],
            "image/png": "[encoded data removed]"
          },
          "metadata": {
            "needs_background": "light"
          }
        },
        {
          "output_type": "stream",
          "name": "stderr",
          "text": [
            "/usr/local/lib/python3.7/dist-packages/numpy/core/shape_base.py:65: VisibleDeprecationWarning: Creating an ndarray from ragged nested sequences (which is a list-or-tuple of lists-or-tuples-or ndarrays with different lengths or shapes) is deprecated. If you meant to do this, you must specify 'dtype=object' when creating the ndarray.\n",
            "  ary = asanyarray(ary)\n"
          ]
        },
        {
          "output_type": "display_data",
          "data": {
            "text/plain": [
              "<Figure size 576x288 with 1 Axes>"
            ],
            "image/png": "[encoded data removed]"
          },
          "metadata": {
            "needs_background": "light"
          }
        }
      ]
    }
  ]
}